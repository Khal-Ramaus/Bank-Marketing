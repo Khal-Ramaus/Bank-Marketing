{
  "nbformat": 4,
  "nbformat_minor": 5,
  "metadata": {
    "kernelspec": {
      "display_name": "Python 3",
      "language": "python",
      "name": "python3"
    },
    "language_info": {
      "codemirror_mode": {
        "name": "ipython",
        "version": 3
      },
      "file_extension": ".py",
      "mimetype": "text/x-python",
      "name": "python",
      "nbconvert_exporter": "python",
      "pygments_lexer": "ipython3",
      "version": "3.8.8"
    },
    "colab": {
      "name": "h8dsft_Milestone1.ipynb",
      "provenance": [],
      "collapsed_sections": []
    }
  },
  "cells": [
    {
      "cell_type": "markdown",
      "metadata": {
        "id": "_Z_X__DGivgX"
      },
      "source": [
        "# Perkenalan"
      ],
      "id": "_Z_X__DGivgX"
    },
    {
      "cell_type": "markdown",
      "metadata": {
        "id": "VQPX5RPjiyFv"
      },
      "source": [
        "**Milestone 1**\n",
        "\n",
        "by. Haikal Ramadhan Usman"
      ],
      "id": "VQPX5RPjiyFv"
    },
    {
      "cell_type": "markdown",
      "metadata": {
        "id": "P2-rjC8pjAB5"
      },
      "source": [
        "Tujuan dari Analisis ini adalah melakukan pemodelan machine learning untuk memprediksi apakah customer dari Bank akan berlangganan produk dari marketing Bank tersebut atau tidak"
      ],
      "id": "P2-rjC8pjAB5"
    },
    {
      "cell_type": "markdown",
      "metadata": {
        "id": "Iy1KeZy4jbz3"
      },
      "source": [
        "Model yang akan digunakan pada analisis ini adalah:\n",
        "1. Decision Tree\n",
        "2. Random Forest\n",
        "3. Gaussian Naive Bayes\n",
        "4. SVC\n",
        "5. Logistic Regression\n",
        "6. K-nearest Neighbors\n",
        "7. Percepton"
      ],
      "id": "Iy1KeZy4jbz3"
    },
    {
      "cell_type": "markdown",
      "metadata": {
        "id": "mV6jz_Ltj6GN"
      },
      "source": [
        "Dataset yang akan digunakan dapat diunduh di https://archive.ics.uci.edu/ml/datasets/Bank+Marketing"
      ],
      "id": "mV6jz_Ltj6GN"
    },
    {
      "cell_type": "markdown",
      "metadata": {
        "id": "jQ8V2YclkAWw"
      },
      "source": [
        "# Import Library yang akan digunakan"
      ],
      "id": "jQ8V2YclkAWw"
    },
    {
      "cell_type": "markdown",
      "metadata": {
        "id": "qqrEgDlbkTRR"
      },
      "source": [
        "1. matplotlib: digunakan untuk memvisualisasikan data\n",
        "2. pandas: untuk loading, manipulasi dan preprocessing dataset\n",
        "3. numpy: untuk perhitungan numerik\n",
        "4. seaborn: untuk memvisualisasikan data\n",
        "5. sklearn: Machine learning framework yang digunakan\n",
        "  *   LogisticRegression = model Machine Learning yang akan diimplementasikan\n",
        "  *   SVM = model Machine Learning yang akan diimplementasikan\n",
        "  *   StandardScaler = Untuk scaling data\n",
        "  *   LabelEncoder = Encode label into numeric value\n",
        "  *   GaussianNB = Model Machine learning yang akan digunakan\n",
        "  *   Perceptron = Model Machine learning yang akan digunakan\n",
        "  *   KNeighborsClassifier = Model yang akan digunakan\n",
        "  *   DecisionTreeClassifier = Model yang akan digunakan\n",
        "  *   RandomForestClassifier = Model yang akan digunakan\n",
        "  *   KFold = melakukan cross validation\n",
        "  *   GridSearchCV = Grid Search CV\n",
        "  *   accuracy_score = Menghidung akurasi\n",
        "  *   variance_inflation_factor = mencari multicollinearity\n"
      ],
      "id": "qqrEgDlbkTRR"
    },
    {
      "cell_type": "code",
      "metadata": {
        "colab": {
          "base_uri": "https://localhost:8080/"
        },
        "id": "46f5289b",
        "outputId": "b936b861-bd80-4a6a-b15e-817c295899b4"
      },
      "source": [
        "%matplotlib inline\n",
        "import matplotlib.pyplot as plt\n",
        "\n",
        "import pandas as pd\n",
        "import numpy as np\n",
        "import seaborn as sns\n",
        "\n",
        "import sklearn\n",
        "from sklearn.naive_bayes import GaussianNB\n",
        "from sklearn.neighbors import KNeighborsClassifier\n",
        "from sklearn.linear_model import LogisticRegression, Perceptron\n",
        "from sklearn.svm import SVC\n",
        "from sklearn.tree import DecisionTreeClassifier\n",
        "from sklearn.ensemble import RandomForestClassifier\n",
        "from sklearn.model_selection import KFold, GridSearchCV\n",
        "from sklearn.preprocessing import StandardScaler, LabelEncoder\n",
        "from sklearn.metrics import accuracy_score\n",
        "from statsmodels.stats.outliers_influence import variance_inflation_factor"
      ],
      "id": "46f5289b",
      "execution_count": 1,
      "outputs": [
        {
          "output_type": "stream",
          "text": [
            "/usr/local/lib/python3.7/dist-packages/statsmodels/tools/_testing.py:19: FutureWarning: pandas.util.testing is deprecated. Use the functions in the public API at pandas.testing instead.\n",
            "  import pandas.util.testing as tm\n"
          ],
          "name": "stderr"
        }
      ]
    },
    {
      "cell_type": "markdown",
      "metadata": {
        "id": "ImATXCtnY-Nb"
      },
      "source": [
        "# Data Loading"
      ],
      "id": "ImATXCtnY-Nb"
    },
    {
      "cell_type": "code",
      "metadata": {
        "id": "e33caeb2"
      },
      "source": [
        "df = pd.read_csv(\"/content/bank-additional-full.csv\", sep=\";\")"
      ],
      "id": "e33caeb2",
      "execution_count": 4,
      "outputs": []
    },
    {
      "cell_type": "code",
      "metadata": {
        "id": "6045ad87"
      },
      "source": [
        "pd.set_option(\"display.max_columns\", None)"
      ],
      "id": "6045ad87",
      "execution_count": 5,
      "outputs": []
    },
    {
      "cell_type": "code",
      "metadata": {
        "colab": {
          "base_uri": "https://localhost:8080/",
          "height": 378
        },
        "id": "5f0a77ee",
        "outputId": "a1b4ab90-dafa-4e61-e8b1-66c85adb4400"
      },
      "source": [
        "df.head(10)"
      ],
      "id": "5f0a77ee",
      "execution_count": 6,
      "outputs": [
        {
          "output_type": "execute_result",
          "data": {
            "text/html": [
              "<div>\n",
              "<style scoped>\n",
              "    .dataframe tbody tr th:only-of-type {\n",
              "        vertical-align: middle;\n",
              "    }\n",
              "\n",
              "    .dataframe tbody tr th {\n",
              "        vertical-align: top;\n",
              "    }\n",
              "\n",
              "    .dataframe thead th {\n",
              "        text-align: right;\n",
              "    }\n",
              "</style>\n",
              "<table border=\"1\" class=\"dataframe\">\n",
              "  <thead>\n",
              "    <tr style=\"text-align: right;\">\n",
              "      <th></th>\n",
              "      <th>age</th>\n",
              "      <th>job</th>\n",
              "      <th>marital</th>\n",
              "      <th>education</th>\n",
              "      <th>default</th>\n",
              "      <th>housing</th>\n",
              "      <th>loan</th>\n",
              "      <th>contact</th>\n",
              "      <th>month</th>\n",
              "      <th>day_of_week</th>\n",
              "      <th>duration</th>\n",
              "      <th>campaign</th>\n",
              "      <th>pdays</th>\n",
              "      <th>previous</th>\n",
              "      <th>poutcome</th>\n",
              "      <th>emp.var.rate</th>\n",
              "      <th>cons.price.idx</th>\n",
              "      <th>cons.conf.idx</th>\n",
              "      <th>euribor3m</th>\n",
              "      <th>nr.employed</th>\n",
              "      <th>y</th>\n",
              "    </tr>\n",
              "  </thead>\n",
              "  <tbody>\n",
              "    <tr>\n",
              "      <th>0</th>\n",
              "      <td>56</td>\n",
              "      <td>housemaid</td>\n",
              "      <td>married</td>\n",
              "      <td>basic.4y</td>\n",
              "      <td>no</td>\n",
              "      <td>no</td>\n",
              "      <td>no</td>\n",
              "      <td>telephone</td>\n",
              "      <td>may</td>\n",
              "      <td>mon</td>\n",
              "      <td>261</td>\n",
              "      <td>1</td>\n",
              "      <td>999</td>\n",
              "      <td>0</td>\n",
              "      <td>nonexistent</td>\n",
              "      <td>1.1</td>\n",
              "      <td>93.994</td>\n",
              "      <td>-36.4</td>\n",
              "      <td>4.857</td>\n",
              "      <td>5191.0</td>\n",
              "      <td>no</td>\n",
              "    </tr>\n",
              "    <tr>\n",
              "      <th>1</th>\n",
              "      <td>57</td>\n",
              "      <td>services</td>\n",
              "      <td>married</td>\n",
              "      <td>high.school</td>\n",
              "      <td>unknown</td>\n",
              "      <td>no</td>\n",
              "      <td>no</td>\n",
              "      <td>telephone</td>\n",
              "      <td>may</td>\n",
              "      <td>mon</td>\n",
              "      <td>149</td>\n",
              "      <td>1</td>\n",
              "      <td>999</td>\n",
              "      <td>0</td>\n",
              "      <td>nonexistent</td>\n",
              "      <td>1.1</td>\n",
              "      <td>93.994</td>\n",
              "      <td>-36.4</td>\n",
              "      <td>4.857</td>\n",
              "      <td>5191.0</td>\n",
              "      <td>no</td>\n",
              "    </tr>\n",
              "    <tr>\n",
              "      <th>2</th>\n",
              "      <td>37</td>\n",
              "      <td>services</td>\n",
              "      <td>married</td>\n",
              "      <td>high.school</td>\n",
              "      <td>no</td>\n",
              "      <td>yes</td>\n",
              "      <td>no</td>\n",
              "      <td>telephone</td>\n",
              "      <td>may</td>\n",
              "      <td>mon</td>\n",
              "      <td>226</td>\n",
              "      <td>1</td>\n",
              "      <td>999</td>\n",
              "      <td>0</td>\n",
              "      <td>nonexistent</td>\n",
              "      <td>1.1</td>\n",
              "      <td>93.994</td>\n",
              "      <td>-36.4</td>\n",
              "      <td>4.857</td>\n",
              "      <td>5191.0</td>\n",
              "      <td>no</td>\n",
              "    </tr>\n",
              "    <tr>\n",
              "      <th>3</th>\n",
              "      <td>40</td>\n",
              "      <td>admin.</td>\n",
              "      <td>married</td>\n",
              "      <td>basic.6y</td>\n",
              "      <td>no</td>\n",
              "      <td>no</td>\n",
              "      <td>no</td>\n",
              "      <td>telephone</td>\n",
              "      <td>may</td>\n",
              "      <td>mon</td>\n",
              "      <td>151</td>\n",
              "      <td>1</td>\n",
              "      <td>999</td>\n",
              "      <td>0</td>\n",
              "      <td>nonexistent</td>\n",
              "      <td>1.1</td>\n",
              "      <td>93.994</td>\n",
              "      <td>-36.4</td>\n",
              "      <td>4.857</td>\n",
              "      <td>5191.0</td>\n",
              "      <td>no</td>\n",
              "    </tr>\n",
              "    <tr>\n",
              "      <th>4</th>\n",
              "      <td>56</td>\n",
              "      <td>services</td>\n",
              "      <td>married</td>\n",
              "      <td>high.school</td>\n",
              "      <td>no</td>\n",
              "      <td>no</td>\n",
              "      <td>yes</td>\n",
              "      <td>telephone</td>\n",
              "      <td>may</td>\n",
              "      <td>mon</td>\n",
              "      <td>307</td>\n",
              "      <td>1</td>\n",
              "      <td>999</td>\n",
              "      <td>0</td>\n",
              "      <td>nonexistent</td>\n",
              "      <td>1.1</td>\n",
              "      <td>93.994</td>\n",
              "      <td>-36.4</td>\n",
              "      <td>4.857</td>\n",
              "      <td>5191.0</td>\n",
              "      <td>no</td>\n",
              "    </tr>\n",
              "    <tr>\n",
              "      <th>5</th>\n",
              "      <td>45</td>\n",
              "      <td>services</td>\n",
              "      <td>married</td>\n",
              "      <td>basic.9y</td>\n",
              "      <td>unknown</td>\n",
              "      <td>no</td>\n",
              "      <td>no</td>\n",
              "      <td>telephone</td>\n",
              "      <td>may</td>\n",
              "      <td>mon</td>\n",
              "      <td>198</td>\n",
              "      <td>1</td>\n",
              "      <td>999</td>\n",
              "      <td>0</td>\n",
              "      <td>nonexistent</td>\n",
              "      <td>1.1</td>\n",
              "      <td>93.994</td>\n",
              "      <td>-36.4</td>\n",
              "      <td>4.857</td>\n",
              "      <td>5191.0</td>\n",
              "      <td>no</td>\n",
              "    </tr>\n",
              "    <tr>\n",
              "      <th>6</th>\n",
              "      <td>59</td>\n",
              "      <td>admin.</td>\n",
              "      <td>married</td>\n",
              "      <td>professional.course</td>\n",
              "      <td>no</td>\n",
              "      <td>no</td>\n",
              "      <td>no</td>\n",
              "      <td>telephone</td>\n",
              "      <td>may</td>\n",
              "      <td>mon</td>\n",
              "      <td>139</td>\n",
              "      <td>1</td>\n",
              "      <td>999</td>\n",
              "      <td>0</td>\n",
              "      <td>nonexistent</td>\n",
              "      <td>1.1</td>\n",
              "      <td>93.994</td>\n",
              "      <td>-36.4</td>\n",
              "      <td>4.857</td>\n",
              "      <td>5191.0</td>\n",
              "      <td>no</td>\n",
              "    </tr>\n",
              "    <tr>\n",
              "      <th>7</th>\n",
              "      <td>41</td>\n",
              "      <td>blue-collar</td>\n",
              "      <td>married</td>\n",
              "      <td>unknown</td>\n",
              "      <td>unknown</td>\n",
              "      <td>no</td>\n",
              "      <td>no</td>\n",
              "      <td>telephone</td>\n",
              "      <td>may</td>\n",
              "      <td>mon</td>\n",
              "      <td>217</td>\n",
              "      <td>1</td>\n",
              "      <td>999</td>\n",
              "      <td>0</td>\n",
              "      <td>nonexistent</td>\n",
              "      <td>1.1</td>\n",
              "      <td>93.994</td>\n",
              "      <td>-36.4</td>\n",
              "      <td>4.857</td>\n",
              "      <td>5191.0</td>\n",
              "      <td>no</td>\n",
              "    </tr>\n",
              "    <tr>\n",
              "      <th>8</th>\n",
              "      <td>24</td>\n",
              "      <td>technician</td>\n",
              "      <td>single</td>\n",
              "      <td>professional.course</td>\n",
              "      <td>no</td>\n",
              "      <td>yes</td>\n",
              "      <td>no</td>\n",
              "      <td>telephone</td>\n",
              "      <td>may</td>\n",
              "      <td>mon</td>\n",
              "      <td>380</td>\n",
              "      <td>1</td>\n",
              "      <td>999</td>\n",
              "      <td>0</td>\n",
              "      <td>nonexistent</td>\n",
              "      <td>1.1</td>\n",
              "      <td>93.994</td>\n",
              "      <td>-36.4</td>\n",
              "      <td>4.857</td>\n",
              "      <td>5191.0</td>\n",
              "      <td>no</td>\n",
              "    </tr>\n",
              "    <tr>\n",
              "      <th>9</th>\n",
              "      <td>25</td>\n",
              "      <td>services</td>\n",
              "      <td>single</td>\n",
              "      <td>high.school</td>\n",
              "      <td>no</td>\n",
              "      <td>yes</td>\n",
              "      <td>no</td>\n",
              "      <td>telephone</td>\n",
              "      <td>may</td>\n",
              "      <td>mon</td>\n",
              "      <td>50</td>\n",
              "      <td>1</td>\n",
              "      <td>999</td>\n",
              "      <td>0</td>\n",
              "      <td>nonexistent</td>\n",
              "      <td>1.1</td>\n",
              "      <td>93.994</td>\n",
              "      <td>-36.4</td>\n",
              "      <td>4.857</td>\n",
              "      <td>5191.0</td>\n",
              "      <td>no</td>\n",
              "    </tr>\n",
              "  </tbody>\n",
              "</table>\n",
              "</div>"
            ],
            "text/plain": [
              "   age          job  marital            education  default housing loan  \\\n",
              "0   56    housemaid  married             basic.4y       no      no   no   \n",
              "1   57     services  married          high.school  unknown      no   no   \n",
              "2   37     services  married          high.school       no     yes   no   \n",
              "3   40       admin.  married             basic.6y       no      no   no   \n",
              "4   56     services  married          high.school       no      no  yes   \n",
              "5   45     services  married             basic.9y  unknown      no   no   \n",
              "6   59       admin.  married  professional.course       no      no   no   \n",
              "7   41  blue-collar  married              unknown  unknown      no   no   \n",
              "8   24   technician   single  professional.course       no     yes   no   \n",
              "9   25     services   single          high.school       no     yes   no   \n",
              "\n",
              "     contact month day_of_week  duration  campaign  pdays  previous  \\\n",
              "0  telephone   may         mon       261         1    999         0   \n",
              "1  telephone   may         mon       149         1    999         0   \n",
              "2  telephone   may         mon       226         1    999         0   \n",
              "3  telephone   may         mon       151         1    999         0   \n",
              "4  telephone   may         mon       307         1    999         0   \n",
              "5  telephone   may         mon       198         1    999         0   \n",
              "6  telephone   may         mon       139         1    999         0   \n",
              "7  telephone   may         mon       217         1    999         0   \n",
              "8  telephone   may         mon       380         1    999         0   \n",
              "9  telephone   may         mon        50         1    999         0   \n",
              "\n",
              "      poutcome  emp.var.rate  cons.price.idx  cons.conf.idx  euribor3m  \\\n",
              "0  nonexistent           1.1          93.994          -36.4      4.857   \n",
              "1  nonexistent           1.1          93.994          -36.4      4.857   \n",
              "2  nonexistent           1.1          93.994          -36.4      4.857   \n",
              "3  nonexistent           1.1          93.994          -36.4      4.857   \n",
              "4  nonexistent           1.1          93.994          -36.4      4.857   \n",
              "5  nonexistent           1.1          93.994          -36.4      4.857   \n",
              "6  nonexistent           1.1          93.994          -36.4      4.857   \n",
              "7  nonexistent           1.1          93.994          -36.4      4.857   \n",
              "8  nonexistent           1.1          93.994          -36.4      4.857   \n",
              "9  nonexistent           1.1          93.994          -36.4      4.857   \n",
              "\n",
              "   nr.employed   y  \n",
              "0       5191.0  no  \n",
              "1       5191.0  no  \n",
              "2       5191.0  no  \n",
              "3       5191.0  no  \n",
              "4       5191.0  no  \n",
              "5       5191.0  no  \n",
              "6       5191.0  no  \n",
              "7       5191.0  no  \n",
              "8       5191.0  no  \n",
              "9       5191.0  no  "
            ]
          },
          "metadata": {
            "tags": []
          },
          "execution_count": 6
        }
      ]
    },
    {
      "cell_type": "code",
      "metadata": {
        "colab": {
          "base_uri": "https://localhost:8080/"
        },
        "id": "5befe775",
        "outputId": "35ca28ea-2f7c-41a1-cc9b-f861bb858971"
      },
      "source": [
        "df.info()"
      ],
      "id": "5befe775",
      "execution_count": 7,
      "outputs": [
        {
          "output_type": "stream",
          "text": [
            "<class 'pandas.core.frame.DataFrame'>\n",
            "RangeIndex: 41188 entries, 0 to 41187\n",
            "Data columns (total 21 columns):\n",
            " #   Column          Non-Null Count  Dtype  \n",
            "---  ------          --------------  -----  \n",
            " 0   age             41188 non-null  int64  \n",
            " 1   job             41188 non-null  object \n",
            " 2   marital         41188 non-null  object \n",
            " 3   education       41188 non-null  object \n",
            " 4   default         41188 non-null  object \n",
            " 5   housing         41188 non-null  object \n",
            " 6   loan            41188 non-null  object \n",
            " 7   contact         41188 non-null  object \n",
            " 8   month           41188 non-null  object \n",
            " 9   day_of_week     41188 non-null  object \n",
            " 10  duration        41188 non-null  int64  \n",
            " 11  campaign        41188 non-null  int64  \n",
            " 12  pdays           41188 non-null  int64  \n",
            " 13  previous        41188 non-null  int64  \n",
            " 14  poutcome        41188 non-null  object \n",
            " 15  emp.var.rate    41188 non-null  float64\n",
            " 16  cons.price.idx  41188 non-null  float64\n",
            " 17  cons.conf.idx   41188 non-null  float64\n",
            " 18  euribor3m       41188 non-null  float64\n",
            " 19  nr.employed     41188 non-null  float64\n",
            " 20  y               41188 non-null  object \n",
            "dtypes: float64(5), int64(5), object(11)\n",
            "memory usage: 6.6+ MB\n"
          ],
          "name": "stdout"
        }
      ]
    },
    {
      "cell_type": "code",
      "metadata": {
        "colab": {
          "base_uri": "https://localhost:8080/",
          "height": 296
        },
        "id": "85687560",
        "outputId": "ea9f6799-835f-4b08-ea55-909720554d5d"
      },
      "source": [
        "df.describe()"
      ],
      "id": "85687560",
      "execution_count": 8,
      "outputs": [
        {
          "output_type": "execute_result",
          "data": {
            "text/html": [
              "<div>\n",
              "<style scoped>\n",
              "    .dataframe tbody tr th:only-of-type {\n",
              "        vertical-align: middle;\n",
              "    }\n",
              "\n",
              "    .dataframe tbody tr th {\n",
              "        vertical-align: top;\n",
              "    }\n",
              "\n",
              "    .dataframe thead th {\n",
              "        text-align: right;\n",
              "    }\n",
              "</style>\n",
              "<table border=\"1\" class=\"dataframe\">\n",
              "  <thead>\n",
              "    <tr style=\"text-align: right;\">\n",
              "      <th></th>\n",
              "      <th>age</th>\n",
              "      <th>duration</th>\n",
              "      <th>campaign</th>\n",
              "      <th>pdays</th>\n",
              "      <th>previous</th>\n",
              "      <th>emp.var.rate</th>\n",
              "      <th>cons.price.idx</th>\n",
              "      <th>cons.conf.idx</th>\n",
              "      <th>euribor3m</th>\n",
              "      <th>nr.employed</th>\n",
              "    </tr>\n",
              "  </thead>\n",
              "  <tbody>\n",
              "    <tr>\n",
              "      <th>count</th>\n",
              "      <td>41188.00000</td>\n",
              "      <td>41188.000000</td>\n",
              "      <td>41188.000000</td>\n",
              "      <td>41188.000000</td>\n",
              "      <td>41188.000000</td>\n",
              "      <td>41188.000000</td>\n",
              "      <td>41188.000000</td>\n",
              "      <td>41188.000000</td>\n",
              "      <td>41188.000000</td>\n",
              "      <td>41188.000000</td>\n",
              "    </tr>\n",
              "    <tr>\n",
              "      <th>mean</th>\n",
              "      <td>40.02406</td>\n",
              "      <td>258.285010</td>\n",
              "      <td>2.567593</td>\n",
              "      <td>962.475454</td>\n",
              "      <td>0.172963</td>\n",
              "      <td>0.081886</td>\n",
              "      <td>93.575664</td>\n",
              "      <td>-40.502600</td>\n",
              "      <td>3.621291</td>\n",
              "      <td>5167.035911</td>\n",
              "    </tr>\n",
              "    <tr>\n",
              "      <th>std</th>\n",
              "      <td>10.42125</td>\n",
              "      <td>259.279249</td>\n",
              "      <td>2.770014</td>\n",
              "      <td>186.910907</td>\n",
              "      <td>0.494901</td>\n",
              "      <td>1.570960</td>\n",
              "      <td>0.578840</td>\n",
              "      <td>4.628198</td>\n",
              "      <td>1.734447</td>\n",
              "      <td>72.251528</td>\n",
              "    </tr>\n",
              "    <tr>\n",
              "      <th>min</th>\n",
              "      <td>17.00000</td>\n",
              "      <td>0.000000</td>\n",
              "      <td>1.000000</td>\n",
              "      <td>0.000000</td>\n",
              "      <td>0.000000</td>\n",
              "      <td>-3.400000</td>\n",
              "      <td>92.201000</td>\n",
              "      <td>-50.800000</td>\n",
              "      <td>0.634000</td>\n",
              "      <td>4963.600000</td>\n",
              "    </tr>\n",
              "    <tr>\n",
              "      <th>25%</th>\n",
              "      <td>32.00000</td>\n",
              "      <td>102.000000</td>\n",
              "      <td>1.000000</td>\n",
              "      <td>999.000000</td>\n",
              "      <td>0.000000</td>\n",
              "      <td>-1.800000</td>\n",
              "      <td>93.075000</td>\n",
              "      <td>-42.700000</td>\n",
              "      <td>1.344000</td>\n",
              "      <td>5099.100000</td>\n",
              "    </tr>\n",
              "    <tr>\n",
              "      <th>50%</th>\n",
              "      <td>38.00000</td>\n",
              "      <td>180.000000</td>\n",
              "      <td>2.000000</td>\n",
              "      <td>999.000000</td>\n",
              "      <td>0.000000</td>\n",
              "      <td>1.100000</td>\n",
              "      <td>93.749000</td>\n",
              "      <td>-41.800000</td>\n",
              "      <td>4.857000</td>\n",
              "      <td>5191.000000</td>\n",
              "    </tr>\n",
              "    <tr>\n",
              "      <th>75%</th>\n",
              "      <td>47.00000</td>\n",
              "      <td>319.000000</td>\n",
              "      <td>3.000000</td>\n",
              "      <td>999.000000</td>\n",
              "      <td>0.000000</td>\n",
              "      <td>1.400000</td>\n",
              "      <td>93.994000</td>\n",
              "      <td>-36.400000</td>\n",
              "      <td>4.961000</td>\n",
              "      <td>5228.100000</td>\n",
              "    </tr>\n",
              "    <tr>\n",
              "      <th>max</th>\n",
              "      <td>98.00000</td>\n",
              "      <td>4918.000000</td>\n",
              "      <td>56.000000</td>\n",
              "      <td>999.000000</td>\n",
              "      <td>7.000000</td>\n",
              "      <td>1.400000</td>\n",
              "      <td>94.767000</td>\n",
              "      <td>-26.900000</td>\n",
              "      <td>5.045000</td>\n",
              "      <td>5228.100000</td>\n",
              "    </tr>\n",
              "  </tbody>\n",
              "</table>\n",
              "</div>"
            ],
            "text/plain": [
              "               age      duration      campaign         pdays      previous  \\\n",
              "count  41188.00000  41188.000000  41188.000000  41188.000000  41188.000000   \n",
              "mean      40.02406    258.285010      2.567593    962.475454      0.172963   \n",
              "std       10.42125    259.279249      2.770014    186.910907      0.494901   \n",
              "min       17.00000      0.000000      1.000000      0.000000      0.000000   \n",
              "25%       32.00000    102.000000      1.000000    999.000000      0.000000   \n",
              "50%       38.00000    180.000000      2.000000    999.000000      0.000000   \n",
              "75%       47.00000    319.000000      3.000000    999.000000      0.000000   \n",
              "max       98.00000   4918.000000     56.000000    999.000000      7.000000   \n",
              "\n",
              "       emp.var.rate  cons.price.idx  cons.conf.idx     euribor3m   nr.employed  \n",
              "count  41188.000000    41188.000000   41188.000000  41188.000000  41188.000000  \n",
              "mean       0.081886       93.575664     -40.502600      3.621291   5167.035911  \n",
              "std        1.570960        0.578840       4.628198      1.734447     72.251528  \n",
              "min       -3.400000       92.201000     -50.800000      0.634000   4963.600000  \n",
              "25%       -1.800000       93.075000     -42.700000      1.344000   5099.100000  \n",
              "50%        1.100000       93.749000     -41.800000      4.857000   5191.000000  \n",
              "75%        1.400000       93.994000     -36.400000      4.961000   5228.100000  \n",
              "max        1.400000       94.767000     -26.900000      5.045000   5228.100000  "
            ]
          },
          "metadata": {
            "tags": []
          },
          "execution_count": 8
        }
      ]
    },
    {
      "cell_type": "code",
      "metadata": {
        "colab": {
          "base_uri": "https://localhost:8080/"
        },
        "id": "cfe35584",
        "outputId": "0deb143a-2cc8-4e80-ef0b-29acefe87200"
      },
      "source": [
        "df.columns.values"
      ],
      "id": "cfe35584",
      "execution_count": 9,
      "outputs": [
        {
          "output_type": "execute_result",
          "data": {
            "text/plain": [
              "array(['age', 'job', 'marital', 'education', 'default', 'housing', 'loan',\n",
              "       'contact', 'month', 'day_of_week', 'duration', 'campaign', 'pdays',\n",
              "       'previous', 'poutcome', 'emp.var.rate', 'cons.price.idx',\n",
              "       'cons.conf.idx', 'euribor3m', 'nr.employed', 'y'], dtype=object)"
            ]
          },
          "metadata": {
            "tags": []
          },
          "execution_count": 9
        }
      ]
    },
    {
      "cell_type": "markdown",
      "metadata": {
        "id": "_F7qxAZaZDB3"
      },
      "source": [
        "# EDA"
      ],
      "id": "_F7qxAZaZDB3"
    },
    {
      "cell_type": "code",
      "metadata": {
        "id": "993f6570"
      },
      "source": [
        "dfnew = df.copy()"
      ],
      "id": "993f6570",
      "execution_count": 10,
      "outputs": []
    },
    {
      "cell_type": "code",
      "metadata": {
        "id": "d22e3906"
      },
      "source": [
        "dfnew = dfnew.rename(columns={'default':'defaultCredit','housing':'loanHousing','loan':'personalLoan','month':'lastMonth',\n",
        "                      'day_of_week':'lastDay','duration':'lastDuration','campaign':'numOfContact','pdays':'passedDay',\n",
        "                      'previous':'prevNumOfContact','poutcome':'prevOutcome','y':'subscribed'})"
      ],
      "id": "d22e3906",
      "execution_count": 11,
      "outputs": []
    },
    {
      "cell_type": "code",
      "metadata": {
        "colab": {
          "base_uri": "https://localhost:8080/",
          "height": 988
        },
        "id": "556655df",
        "outputId": "8f20eaa8-d676-41c6-e0cd-1645ac9f6057"
      },
      "source": [
        "dfnew.hist(bins=50, figsize=(22, 17), color = \"DarkBlue\")\n",
        "plt.show()"
      ],
      "id": "556655df",
      "execution_count": 12,
      "outputs": [
        {
          "output_type": "display_data",
          "data": {
            "image/png": "[encoded data removed]",
            "text/plain": [
              "<Figure size 1584x1224 with 12 Axes>"
            ]
          },
          "metadata": {
            "tags": [],
            "needs_background": "light"
          }
        }
      ]
    },
    {
      "cell_type": "markdown",
      "metadata": {
        "id": "_eqm51xBZ269"
      },
      "source": [
        "1. nr.employed, euribor3m, cons.conf.idx merupakan data yang diskrit\n",
        "2. age, lastDuration, dan numOfCOntact distribusi nya skewed kanan"
      ],
      "id": "_eqm51xBZ269"
    },
    {
      "cell_type": "code",
      "metadata": {
        "scrolled": false,
        "colab": {
          "base_uri": "https://localhost:8080/",
          "height": 1000
        },
        "id": "c1540c72",
        "outputId": "a4902dbc-c96e-4fa0-e09f-de8e24d8179e"
      },
      "source": [
        "plt.figure(figsize=(10,5))\n",
        "plt.title('Job Counts')\n",
        "p = sns.countplot(x=\"job\", data=dfnew)\n",
        "p.set_xticklabels(p.get_xticklabels(), rotation=45)\n",
        "plt.show()\n",
        "\n",
        "plt.figure(figsize=(10,5))\n",
        "plt.title('Marital Counts')\n",
        "p = sns.countplot(x=\"marital\", data=dfnew)\n",
        "p.set_xticklabels(p.get_xticklabels(), rotation=45)\n",
        "plt.show()\n",
        "\n",
        "plt.figure(figsize=(10,5))\n",
        "plt.title('Education Counts')\n",
        "p = sns.countplot(x=\"education\", data=dfnew)\n",
        "p.set_xticklabels(p.get_xticklabels(), rotation=45)\n",
        "plt.show()\n",
        "\n",
        "dfnew.defaultCredit.value_counts().plot(kind='pie', title=\"Has Credit in Default\", autopct='%.4f%%', figsize=(5,5))\n",
        "plt.show()\n",
        "\n",
        "dfnew.loanHousing.value_counts().plot(kind='pie', title=\"Has Housing on loan\", autopct='%.1f%%', figsize=(5,5))\n",
        "plt.show()\n",
        "\n",
        "dfnew.personalLoan.value_counts().plot(kind='pie', title=\"personal loan\", autopct='%.1f%%', figsize=(5,5))\n",
        "plt.show()\n",
        "\n",
        "dfnew.contact.value_counts().plot(kind='pie', title=\"Contact Communication Type\", autopct='%.1f%%', figsize=(5,5))\n",
        "plt.show()\n",
        "\n",
        "plt.figure(figsize=(10,5))\n",
        "plt.title('Last Contact in Month')\n",
        "p = sns.countplot(x=\"lastMonth\", data=dfnew)\n",
        "p.set_xticklabels(p.get_xticklabels(), rotation=45)\n",
        "plt.show()\n",
        "\n",
        "plt.figure(figsize=(10,5))\n",
        "plt.title('Last Contact in Day')\n",
        "p = sns.countplot(x=\"lastDay\", data=dfnew)\n",
        "p.set_xticklabels(p.get_xticklabels(), rotation=45)\n",
        "plt.show()\n",
        "\n",
        "dfnew.prevOutcome.value_counts().plot(kind='pie', title=\"Previous Outcome\", autopct='%.1f%%', figsize=(5,5))\n",
        "plt.show()\n",
        "\n",
        "dfnew['subscribed'].value_counts().plot(kind='pie', title=\"Subscibed?\", autopct='%.1f%%', figsize=(5,5))\n",
        "plt.show()"
      ],
      "id": "c1540c72",
      "execution_count": 13,
      "outputs": [
        {
          "output_type": "display_data",
          "data": {
            "image/png": "[encoded data removed]",
            "text/plain": [
              "<Figure size 720x360 with 1 Axes>"
            ]
          },
          "metadata": {
            "tags": [],
            "needs_background": "light"
          }
        },
        {
          "output_type": "display_data",
          "data": {
            "image/png": "[encoded data removed]",
            "text/plain": [
              "<Figure size 720x360 with 1 Axes>"
            ]
          },
          "metadata": {
            "tags": [],
            "needs_background": "light"
          }
        },
        {
          "output_type": "display_data",
          "data": {
            "image/png": "[encoded data removed]",
            "text/plain": [
              "<Figure size 720x360 with 1 Axes>"
            ]
          },
          "metadata": {
            "tags": [],
            "needs_background": "light"
          }
        },
        {
          "output_type": "display_data",
          "data": {
            "image/png": "[encoded data removed]",
            "text/plain": [
              "<Figure size 360x360 with 1 Axes>"
            ]
          },
          "metadata": {
            "tags": []
          }
        },
        {
          "output_type": "display_data",
          "data": {
            "image/png": "[encoded data removed]",
            "text/plain": [
              "<Figure size 360x360 with 1 Axes>"
            ]
          },
          "metadata": {
            "tags": []
          }
        },
        {
          "output_type": "display_data",
          "data": {
            "image/png": "[encoded data removed]",
            "text/plain": [
              "<Figure size 360x360 with 1 Axes>"
            ]
          },
          "metadata": {
            "tags": []
          }
        },
        {
          "output_type": "display_data",
          "data": {
            "image/png": "[encoded data removed]",
            "text/plain": [
              "<Figure size 360x360 with 1 Axes>"
            ]
          },
          "metadata": {
            "tags": []
          }
        },
        {
          "output_type": "display_data",
          "data": {
            "image/png": "[encoded data removed]",
            "text/plain": [
              "<Figure size 720x360 with 1 Axes>"
            ]
          },
          "metadata": {
            "tags": [],
            "needs_background": "light"
          }
        },
        {
          "output_type": "display_data",
          "data": {
            "image/png": "[encoded data removed]",
            "text/plain": [
              "<Figure size 720x360 with 1 Axes>"
            ]
          },
          "metadata": {
            "tags": [],
            "needs_background": "light"
          }
        },
        {
          "output_type": "display_data",
          "data": {
            "image/png": "[encoded data removed]",
            "text/plain": [
              "<Figure size 360x360 with 1 Axes>"
            ]
          },
          "metadata": {
            "tags": []
          }
        },
        {
          "output_type": "display_data",
          "data": {
            "image/png": "[encoded data removed]",
            "text/plain": [
              "<Figure size 360x360 with 1 Axes>"
            ]
          },
          "metadata": {
            "tags": []
          }
        }
      ]
    },
    {
      "cell_type": "markdown",
      "metadata": {
        "id": "qTKGAHPyaSIm"
      },
      "source": [
        "1. Profesi terbanyak adalah orang yang bekerja sebagai admin.\n",
        "2. Dari data, kebanyakan yang didata adalah orang yang sudah menikah.\n",
        "3. Orang-orang yang didata kebanyakan lulusan Universitas\n",
        "4. Hanya 0.0073% orang yang punya credit\n",
        "5. 82% tidak mempunyai personal loan\n",
        "6. 63.5% costumer dihubungi melalui cellular\n",
        "7. Hanya 11.3% orang yang berlangganan"
      ],
      "id": "qTKGAHPyaSIm"
    },
    {
      "cell_type": "markdown",
      "metadata": {
        "id": "VLaXf3iPZM_F"
      },
      "source": [
        "# Data Cleaning"
      ],
      "id": "VLaXf3iPZM_F"
    },
    {
      "cell_type": "code",
      "metadata": {
        "colab": {
          "base_uri": "https://localhost:8080/"
        },
        "id": "698d4bb9",
        "outputId": "263824e4-3a53-48d2-e243-626bd779f161"
      },
      "source": [
        "cols = ['job', 'marital', 'education', 'defaultCredit', 'loanHousing', 'personalLoan',\n",
        "       'contact', 'lastMonth', 'lastDay', 'prevOutcome', 'subscribed']\n",
        "for col in cols:\n",
        "    print(dfnew[col].unique())"
      ],
      "id": "698d4bb9",
      "execution_count": 14,
      "outputs": [
        {
          "output_type": "stream",
          "text": [
            "['housemaid' 'services' 'admin.' 'blue-collar' 'technician' 'retired'\n",
            " 'management' 'unemployed' 'self-employed' 'unknown' 'entrepreneur'\n",
            " 'student']\n",
            "['married' 'single' 'divorced' 'unknown']\n",
            "['basic.4y' 'high.school' 'basic.6y' 'basic.9y' 'professional.course'\n",
            " 'unknown' 'university.degree' 'illiterate']\n",
            "['no' 'unknown' 'yes']\n",
            "['no' 'yes' 'unknown']\n",
            "['no' 'yes' 'unknown']\n",
            "['telephone' 'cellular']\n",
            "['may' 'jun' 'jul' 'aug' 'oct' 'nov' 'dec' 'mar' 'apr' 'sep']\n",
            "['mon' 'tue' 'wed' 'thu' 'fri']\n",
            "['nonexistent' 'failure' 'success']\n",
            "['no' 'yes']\n"
          ],
          "name": "stdout"
        }
      ]
    },
    {
      "cell_type": "markdown",
      "metadata": {
        "id": "Qo8eNcCybbcF"
      },
      "source": [
        "Terdapat beberapa data yang tidak diketahui(unknown)"
      ],
      "id": "Qo8eNcCybbcF"
    },
    {
      "cell_type": "code",
      "metadata": {
        "colab": {
          "base_uri": "https://localhost:8080/"
        },
        "id": "fceab78b",
        "outputId": "b25dc954-2d2d-4dda-9eb5-9d8afea7ddb3"
      },
      "source": [
        "dfnew.job.value_counts().unknown"
      ],
      "id": "fceab78b",
      "execution_count": 15,
      "outputs": [
        {
          "output_type": "execute_result",
          "data": {
            "text/plain": [
              "330"
            ]
          },
          "metadata": {
            "tags": []
          },
          "execution_count": 15
        }
      ]
    },
    {
      "cell_type": "code",
      "metadata": {
        "colab": {
          "base_uri": "https://localhost:8080/"
        },
        "id": "70ef166b",
        "outputId": "02b14ec6-dc27-48e9-c946-6d145372c6ed"
      },
      "source": [
        "dfnew.marital.value_counts().unknown"
      ],
      "id": "70ef166b",
      "execution_count": 16,
      "outputs": [
        {
          "output_type": "execute_result",
          "data": {
            "text/plain": [
              "80"
            ]
          },
          "metadata": {
            "tags": []
          },
          "execution_count": 16
        }
      ]
    },
    {
      "cell_type": "code",
      "metadata": {
        "colab": {
          "base_uri": "https://localhost:8080/"
        },
        "id": "89bc6fe5",
        "outputId": "e6e34679-be53-4b7d-cc96-baa114b78839"
      },
      "source": [
        "dfnew.education.value_counts().unknown"
      ],
      "id": "89bc6fe5",
      "execution_count": 18,
      "outputs": [
        {
          "output_type": "execute_result",
          "data": {
            "text/plain": [
              "1731"
            ]
          },
          "metadata": {
            "tags": []
          },
          "execution_count": 18
        }
      ]
    },
    {
      "cell_type": "code",
      "metadata": {
        "colab": {
          "base_uri": "https://localhost:8080/"
        },
        "id": "d20dd9b1",
        "outputId": "8805c36b-5e3f-4f35-99e1-d4a70f1d55aa"
      },
      "source": [
        "dfnew.defaultCredit.value_counts().unknown"
      ],
      "id": "d20dd9b1",
      "execution_count": 17,
      "outputs": [
        {
          "output_type": "execute_result",
          "data": {
            "text/plain": [
              "8597"
            ]
          },
          "metadata": {
            "tags": []
          },
          "execution_count": 17
        }
      ]
    },
    {
      "cell_type": "code",
      "metadata": {
        "colab": {
          "base_uri": "https://localhost:8080/"
        },
        "id": "e69edf20",
        "outputId": "1387c087-94e7-4e23-afcc-2746cf750dd4"
      },
      "source": [
        "dfnew.loanHousing.value_counts().unknown"
      ],
      "id": "e69edf20",
      "execution_count": 19,
      "outputs": [
        {
          "output_type": "execute_result",
          "data": {
            "text/plain": [
              "990"
            ]
          },
          "metadata": {
            "tags": []
          },
          "execution_count": 19
        }
      ]
    },
    {
      "cell_type": "code",
      "metadata": {
        "colab": {
          "base_uri": "https://localhost:8080/"
        },
        "id": "f411c6e9",
        "outputId": "776f284d-d63c-4fac-dd00-97417f518faa"
      },
      "source": [
        "dfnew.personalLoan.value_counts().unknown"
      ],
      "id": "f411c6e9",
      "execution_count": 20,
      "outputs": [
        {
          "output_type": "execute_result",
          "data": {
            "text/plain": [
              "990"
            ]
          },
          "metadata": {
            "tags": []
          },
          "execution_count": 20
        }
      ]
    },
    {
      "cell_type": "markdown",
      "metadata": {
        "id": "zpwtll_LbnmH"
      },
      "source": [
        "Untuk job, saya akan replace unknown menjadi unemployed"
      ],
      "id": "zpwtll_LbnmH"
    },
    {
      "cell_type": "code",
      "metadata": {
        "id": "2791bbe1"
      },
      "source": [
        "dfnew['job'] = dfnew['job'].replace('unknown','unemployed')"
      ],
      "id": "2791bbe1",
      "execution_count": 21,
      "outputs": []
    },
    {
      "cell_type": "markdown",
      "metadata": {
        "id": "26hntUGIbuVk"
      },
      "source": [
        "Marital dan education akan saya ganti dengan nilai modus"
      ],
      "id": "26hntUGIbuVk"
    },
    {
      "cell_type": "code",
      "metadata": {
        "colab": {
          "base_uri": "https://localhost:8080/"
        },
        "id": "08205725",
        "outputId": "f25b68a0-53f9-4a4e-99ee-8b9461093266"
      },
      "source": [
        "dfnew['marital'].mode()"
      ],
      "id": "08205725",
      "execution_count": 22,
      "outputs": [
        {
          "output_type": "execute_result",
          "data": {
            "text/plain": [
              "0    married\n",
              "dtype: object"
            ]
          },
          "metadata": {
            "tags": []
          },
          "execution_count": 22
        }
      ]
    },
    {
      "cell_type": "code",
      "metadata": {
        "id": "d1d4e6df"
      },
      "source": [
        "dfnew['marital'] = dfnew['marital'].replace('unknown','married')"
      ],
      "id": "d1d4e6df",
      "execution_count": 23,
      "outputs": []
    },
    {
      "cell_type": "code",
      "metadata": {
        "colab": {
          "base_uri": "https://localhost:8080/"
        },
        "id": "7c2d37cb",
        "outputId": "ab95a7a5-dab1-413a-8499-c07f9cd6dcf2"
      },
      "source": [
        "dfnew['education'].mode()"
      ],
      "id": "7c2d37cb",
      "execution_count": 24,
      "outputs": [
        {
          "output_type": "execute_result",
          "data": {
            "text/plain": [
              "0    university.degree\n",
              "dtype: object"
            ]
          },
          "metadata": {
            "tags": []
          },
          "execution_count": 24
        }
      ]
    },
    {
      "cell_type": "code",
      "metadata": {
        "id": "6ddccfa2"
      },
      "source": [
        "dfnew['education'] = dfnew['education'].replace('unknown','university.degree')"
      ],
      "id": "6ddccfa2",
      "execution_count": 25,
      "outputs": []
    },
    {
      "cell_type": "markdown",
      "metadata": {
        "id": "YyMYXI_EcAfh"
      },
      "source": [
        "Untuk data yang binary, akan saya ganti unknown dengan no"
      ],
      "id": "YyMYXI_EcAfh"
    },
    {
      "cell_type": "code",
      "metadata": {
        "id": "1257ca53"
      },
      "source": [
        "dfnew['defaultCredit'] = dfnew['defaultCredit'].replace('unknown','no')"
      ],
      "id": "1257ca53",
      "execution_count": 26,
      "outputs": []
    },
    {
      "cell_type": "code",
      "metadata": {
        "id": "c067c911"
      },
      "source": [
        "dfnew['loanHousing'] = dfnew['loanHousing'].replace('unknown','no')"
      ],
      "id": "c067c911",
      "execution_count": 27,
      "outputs": []
    },
    {
      "cell_type": "code",
      "metadata": {
        "id": "7e9579f4"
      },
      "source": [
        "dfnew['personalLoan'] = dfnew['personalLoan'].replace('unknown','no')"
      ],
      "id": "7e9579f4",
      "execution_count": 28,
      "outputs": []
    },
    {
      "cell_type": "markdown",
      "metadata": {
        "id": "cpcUFZ6ecF_Y"
      },
      "source": [
        "passedDay memiliki nilai 999 yang artinya client belum pernah dihubungi sebelumnya. Akan saya ubah jadi nan, lalu cari median dan fillna dengan nilai median."
      ],
      "id": "cpcUFZ6ecF_Y"
    },
    {
      "cell_type": "code",
      "metadata": {
        "id": "fba49a9c"
      },
      "source": [
        "dfnew['passedDay'] = dfnew.passedDay.replace({999:np.nan})"
      ],
      "id": "fba49a9c",
      "execution_count": 29,
      "outputs": []
    },
    {
      "cell_type": "code",
      "metadata": {
        "colab": {
          "base_uri": "https://localhost:8080/"
        },
        "id": "042dea11",
        "outputId": "8ef14e91-caa7-4032-fd45-ff3b67fb16f3"
      },
      "source": [
        "dfnew['passedDay'].median()"
      ],
      "id": "042dea11",
      "execution_count": 30,
      "outputs": [
        {
          "output_type": "execute_result",
          "data": {
            "text/plain": [
              "6.0"
            ]
          },
          "metadata": {
            "tags": []
          },
          "execution_count": 30
        }
      ]
    },
    {
      "cell_type": "code",
      "metadata": {
        "colab": {
          "base_uri": "https://localhost:8080/"
        },
        "id": "1d434d06",
        "outputId": "2864f077-e4ee-4d9e-fe0a-913deab9c838"
      },
      "source": [
        "dfnew['passedDay'].unique()"
      ],
      "id": "1d434d06",
      "execution_count": 31,
      "outputs": [
        {
          "output_type": "execute_result",
          "data": {
            "text/plain": [
              "array([nan,  6.,  4.,  3.,  5.,  1.,  0., 10.,  7.,  8.,  9., 11.,  2.,\n",
              "       12., 13., 14., 15., 16., 21., 17., 18., 22., 25., 26., 19., 27.,\n",
              "       20.])"
            ]
          },
          "metadata": {
            "tags": []
          },
          "execution_count": 31
        }
      ]
    },
    {
      "cell_type": "code",
      "metadata": {
        "id": "69f8be86"
      },
      "source": [
        "dfnew['passedDay'].fillna(dfnew['passedDay'].median(), inplace=True)"
      ],
      "id": "69f8be86",
      "execution_count": 32,
      "outputs": []
    },
    {
      "cell_type": "code",
      "metadata": {
        "id": "3b492f91"
      },
      "source": [
        "dfnew['passedDay'] = dfnew['passedDay'].astype('int')"
      ],
      "id": "3b492f91",
      "execution_count": 33,
      "outputs": []
    },
    {
      "cell_type": "code",
      "metadata": {
        "colab": {
          "base_uri": "https://localhost:8080/"
        },
        "id": "0bf4c556",
        "outputId": "72de2ba4-f1ae-4d0f-a32e-c5c625a1fc99"
      },
      "source": [
        "dfnew.info()"
      ],
      "id": "0bf4c556",
      "execution_count": 34,
      "outputs": [
        {
          "output_type": "stream",
          "text": [
            "<class 'pandas.core.frame.DataFrame'>\n",
            "RangeIndex: 41188 entries, 0 to 41187\n",
            "Data columns (total 21 columns):\n",
            " #   Column            Non-Null Count  Dtype  \n",
            "---  ------            --------------  -----  \n",
            " 0   age               41188 non-null  int64  \n",
            " 1   job               41188 non-null  object \n",
            " 2   marital           41188 non-null  object \n",
            " 3   education         41188 non-null  object \n",
            " 4   defaultCredit     41188 non-null  object \n",
            " 5   loanHousing       41188 non-null  object \n",
            " 6   personalLoan      41188 non-null  object \n",
            " 7   contact           41188 non-null  object \n",
            " 8   lastMonth         41188 non-null  object \n",
            " 9   lastDay           41188 non-null  object \n",
            " 10  lastDuration      41188 non-null  int64  \n",
            " 11  numOfContact      41188 non-null  int64  \n",
            " 12  passedDay         41188 non-null  int64  \n",
            " 13  prevNumOfContact  41188 non-null  int64  \n",
            " 14  prevOutcome       41188 non-null  object \n",
            " 15  emp.var.rate      41188 non-null  float64\n",
            " 16  cons.price.idx    41188 non-null  float64\n",
            " 17  cons.conf.idx     41188 non-null  float64\n",
            " 18  euribor3m         41188 non-null  float64\n",
            " 19  nr.employed       41188 non-null  float64\n",
            " 20  subscribed        41188 non-null  object \n",
            "dtypes: float64(5), int64(5), object(11)\n",
            "memory usage: 6.6+ MB\n"
          ],
          "name": "stdout"
        }
      ]
    },
    {
      "cell_type": "code",
      "metadata": {
        "colab": {
          "base_uri": "https://localhost:8080/",
          "height": 532
        },
        "id": "29df6c95",
        "outputId": "793de34d-7555-415c-c87f-63e7d787a4c1"
      },
      "source": [
        "dfnew.head(15)"
      ],
      "id": "29df6c95",
      "execution_count": 35,
      "outputs": [
        {
          "output_type": "execute_result",
          "data": {
            "text/html": [
              "<div>\n",
              "<style scoped>\n",
              "    .dataframe tbody tr th:only-of-type {\n",
              "        vertical-align: middle;\n",
              "    }\n",
              "\n",
              "    .dataframe tbody tr th {\n",
              "        vertical-align: top;\n",
              "    }\n",
              "\n",
              "    .dataframe thead th {\n",
              "        text-align: right;\n",
              "    }\n",
              "</style>\n",
              "<table border=\"1\" class=\"dataframe\">\n",
              "  <thead>\n",
              "    <tr style=\"text-align: right;\">\n",
              "      <th></th>\n",
              "      <th>age</th>\n",
              "      <th>job</th>\n",
              "      <th>marital</th>\n",
              "      <th>education</th>\n",
              "      <th>defaultCredit</th>\n",
              "      <th>loanHousing</th>\n",
              "      <th>personalLoan</th>\n",
              "      <th>contact</th>\n",
              "      <th>lastMonth</th>\n",
              "      <th>lastDay</th>\n",
              "      <th>lastDuration</th>\n",
              "      <th>numOfContact</th>\n",
              "      <th>passedDay</th>\n",
              "      <th>prevNumOfContact</th>\n",
              "      <th>prevOutcome</th>\n",
              "      <th>emp.var.rate</th>\n",
              "      <th>cons.price.idx</th>\n",
              "      <th>cons.conf.idx</th>\n",
              "      <th>euribor3m</th>\n",
              "      <th>nr.employed</th>\n",
              "      <th>subscribed</th>\n",
              "    </tr>\n",
              "  </thead>\n",
              "  <tbody>\n",
              "    <tr>\n",
              "      <th>0</th>\n",
              "      <td>56</td>\n",
              "      <td>housemaid</td>\n",
              "      <td>married</td>\n",
              "      <td>basic.4y</td>\n",
              "      <td>no</td>\n",
              "      <td>no</td>\n",
              "      <td>no</td>\n",
              "      <td>telephone</td>\n",
              "      <td>may</td>\n",
              "      <td>mon</td>\n",
              "      <td>261</td>\n",
              "      <td>1</td>\n",
              "      <td>6</td>\n",
              "      <td>0</td>\n",
              "      <td>nonexistent</td>\n",
              "      <td>1.1</td>\n",
              "      <td>93.994</td>\n",
              "      <td>-36.4</td>\n",
              "      <td>4.857</td>\n",
              "      <td>5191.0</td>\n",
              "      <td>no</td>\n",
              "    </tr>\n",
              "    <tr>\n",
              "      <th>1</th>\n",
              "      <td>57</td>\n",
              "      <td>services</td>\n",
              "      <td>married</td>\n",
              "      <td>high.school</td>\n",
              "      <td>no</td>\n",
              "      <td>no</td>\n",
              "      <td>no</td>\n",
              "      <td>telephone</td>\n",
              "      <td>may</td>\n",
              "      <td>mon</td>\n",
              "      <td>149</td>\n",
              "      <td>1</td>\n",
              "      <td>6</td>\n",
              "      <td>0</td>\n",
              "      <td>nonexistent</td>\n",
              "      <td>1.1</td>\n",
              "      <td>93.994</td>\n",
              "      <td>-36.4</td>\n",
              "      <td>4.857</td>\n",
              "      <td>5191.0</td>\n",
              "      <td>no</td>\n",
              "    </tr>\n",
              "    <tr>\n",
              "      <th>2</th>\n",
              "      <td>37</td>\n",
              "      <td>services</td>\n",
              "      <td>married</td>\n",
              "      <td>high.school</td>\n",
              "      <td>no</td>\n",
              "      <td>yes</td>\n",
              "      <td>no</td>\n",
              "      <td>telephone</td>\n",
              "      <td>may</td>\n",
              "      <td>mon</td>\n",
              "      <td>226</td>\n",
              "      <td>1</td>\n",
              "      <td>6</td>\n",
              "      <td>0</td>\n",
              "      <td>nonexistent</td>\n",
              "      <td>1.1</td>\n",
              "      <td>93.994</td>\n",
              "      <td>-36.4</td>\n",
              "      <td>4.857</td>\n",
              "      <td>5191.0</td>\n",
              "      <td>no</td>\n",
              "    </tr>\n",
              "    <tr>\n",
              "      <th>3</th>\n",
              "      <td>40</td>\n",
              "      <td>admin.</td>\n",
              "      <td>married</td>\n",
              "      <td>basic.6y</td>\n",
              "      <td>no</td>\n",
              "      <td>no</td>\n",
              "      <td>no</td>\n",
              "      <td>telephone</td>\n",
              "      <td>may</td>\n",
              "      <td>mon</td>\n",
              "      <td>151</td>\n",
              "      <td>1</td>\n",
              "      <td>6</td>\n",
              "      <td>0</td>\n",
              "      <td>nonexistent</td>\n",
              "      <td>1.1</td>\n",
              "      <td>93.994</td>\n",
              "      <td>-36.4</td>\n",
              "      <td>4.857</td>\n",
              "      <td>5191.0</td>\n",
              "      <td>no</td>\n",
              "    </tr>\n",
              "    <tr>\n",
              "      <th>4</th>\n",
              "      <td>56</td>\n",
              "      <td>services</td>\n",
              "      <td>married</td>\n",
              "      <td>high.school</td>\n",
              "      <td>no</td>\n",
              "      <td>no</td>\n",
              "      <td>yes</td>\n",
              "      <td>telephone</td>\n",
              "      <td>may</td>\n",
              "      <td>mon</td>\n",
              "      <td>307</td>\n",
              "      <td>1</td>\n",
              "      <td>6</td>\n",
              "      <td>0</td>\n",
              "      <td>nonexistent</td>\n",
              "      <td>1.1</td>\n",
              "      <td>93.994</td>\n",
              "      <td>-36.4</td>\n",
              "      <td>4.857</td>\n",
              "      <td>5191.0</td>\n",
              "      <td>no</td>\n",
              "    </tr>\n",
              "    <tr>\n",
              "      <th>5</th>\n",
              "      <td>45</td>\n",
              "      <td>services</td>\n",
              "      <td>married</td>\n",
              "      <td>basic.9y</td>\n",
              "      <td>no</td>\n",
              "      <td>no</td>\n",
              "      <td>no</td>\n",
              "      <td>telephone</td>\n",
              "      <td>may</td>\n",
              "      <td>mon</td>\n",
              "      <td>198</td>\n",
              "      <td>1</td>\n",
              "      <td>6</td>\n",
              "      <td>0</td>\n",
              "      <td>nonexistent</td>\n",
              "      <td>1.1</td>\n",
              "      <td>93.994</td>\n",
              "      <td>-36.4</td>\n",
              "      <td>4.857</td>\n",
              "      <td>5191.0</td>\n",
              "      <td>no</td>\n",
              "    </tr>\n",
              "    <tr>\n",
              "      <th>6</th>\n",
              "      <td>59</td>\n",
              "      <td>admin.</td>\n",
              "      <td>married</td>\n",
              "      <td>professional.course</td>\n",
              "      <td>no</td>\n",
              "      <td>no</td>\n",
              "      <td>no</td>\n",
              "      <td>telephone</td>\n",
              "      <td>may</td>\n",
              "      <td>mon</td>\n",
              "      <td>139</td>\n",
              "      <td>1</td>\n",
              "      <td>6</td>\n",
              "      <td>0</td>\n",
              "      <td>nonexistent</td>\n",
              "      <td>1.1</td>\n",
              "      <td>93.994</td>\n",
              "      <td>-36.4</td>\n",
              "      <td>4.857</td>\n",
              "      <td>5191.0</td>\n",
              "      <td>no</td>\n",
              "    </tr>\n",
              "    <tr>\n",
              "      <th>7</th>\n",
              "      <td>41</td>\n",
              "      <td>blue-collar</td>\n",
              "      <td>married</td>\n",
              "      <td>university.degree</td>\n",
              "      <td>no</td>\n",
              "      <td>no</td>\n",
              "      <td>no</td>\n",
              "      <td>telephone</td>\n",
              "      <td>may</td>\n",
              "      <td>mon</td>\n",
              "      <td>217</td>\n",
              "      <td>1</td>\n",
              "      <td>6</td>\n",
              "      <td>0</td>\n",
              "      <td>nonexistent</td>\n",
              "      <td>1.1</td>\n",
              "      <td>93.994</td>\n",
              "      <td>-36.4</td>\n",
              "      <td>4.857</td>\n",
              "      <td>5191.0</td>\n",
              "      <td>no</td>\n",
              "    </tr>\n",
              "    <tr>\n",
              "      <th>8</th>\n",
              "      <td>24</td>\n",
              "      <td>technician</td>\n",
              "      <td>single</td>\n",
              "      <td>professional.course</td>\n",
              "      <td>no</td>\n",
              "      <td>yes</td>\n",
              "      <td>no</td>\n",
              "      <td>telephone</td>\n",
              "      <td>may</td>\n",
              "      <td>mon</td>\n",
              "      <td>380</td>\n",
              "      <td>1</td>\n",
              "      <td>6</td>\n",
              "      <td>0</td>\n",
              "      <td>nonexistent</td>\n",
              "      <td>1.1</td>\n",
              "      <td>93.994</td>\n",
              "      <td>-36.4</td>\n",
              "      <td>4.857</td>\n",
              "      <td>5191.0</td>\n",
              "      <td>no</td>\n",
              "    </tr>\n",
              "    <tr>\n",
              "      <th>9</th>\n",
              "      <td>25</td>\n",
              "      <td>services</td>\n",
              "      <td>single</td>\n",
              "      <td>high.school</td>\n",
              "      <td>no</td>\n",
              "      <td>yes</td>\n",
              "      <td>no</td>\n",
              "      <td>telephone</td>\n",
              "      <td>may</td>\n",
              "      <td>mon</td>\n",
              "      <td>50</td>\n",
              "      <td>1</td>\n",
              "      <td>6</td>\n",
              "      <td>0</td>\n",
              "      <td>nonexistent</td>\n",
              "      <td>1.1</td>\n",
              "      <td>93.994</td>\n",
              "      <td>-36.4</td>\n",
              "      <td>4.857</td>\n",
              "      <td>5191.0</td>\n",
              "      <td>no</td>\n",
              "    </tr>\n",
              "    <tr>\n",
              "      <th>10</th>\n",
              "      <td>41</td>\n",
              "      <td>blue-collar</td>\n",
              "      <td>married</td>\n",
              "      <td>university.degree</td>\n",
              "      <td>no</td>\n",
              "      <td>no</td>\n",
              "      <td>no</td>\n",
              "      <td>telephone</td>\n",
              "      <td>may</td>\n",
              "      <td>mon</td>\n",
              "      <td>55</td>\n",
              "      <td>1</td>\n",
              "      <td>6</td>\n",
              "      <td>0</td>\n",
              "      <td>nonexistent</td>\n",
              "      <td>1.1</td>\n",
              "      <td>93.994</td>\n",
              "      <td>-36.4</td>\n",
              "      <td>4.857</td>\n",
              "      <td>5191.0</td>\n",
              "      <td>no</td>\n",
              "    </tr>\n",
              "    <tr>\n",
              "      <th>11</th>\n",
              "      <td>25</td>\n",
              "      <td>services</td>\n",
              "      <td>single</td>\n",
              "      <td>high.school</td>\n",
              "      <td>no</td>\n",
              "      <td>yes</td>\n",
              "      <td>no</td>\n",
              "      <td>telephone</td>\n",
              "      <td>may</td>\n",
              "      <td>mon</td>\n",
              "      <td>222</td>\n",
              "      <td>1</td>\n",
              "      <td>6</td>\n",
              "      <td>0</td>\n",
              "      <td>nonexistent</td>\n",
              "      <td>1.1</td>\n",
              "      <td>93.994</td>\n",
              "      <td>-36.4</td>\n",
              "      <td>4.857</td>\n",
              "      <td>5191.0</td>\n",
              "      <td>no</td>\n",
              "    </tr>\n",
              "    <tr>\n",
              "      <th>12</th>\n",
              "      <td>29</td>\n",
              "      <td>blue-collar</td>\n",
              "      <td>single</td>\n",
              "      <td>high.school</td>\n",
              "      <td>no</td>\n",
              "      <td>no</td>\n",
              "      <td>yes</td>\n",
              "      <td>telephone</td>\n",
              "      <td>may</td>\n",
              "      <td>mon</td>\n",
              "      <td>137</td>\n",
              "      <td>1</td>\n",
              "      <td>6</td>\n",
              "      <td>0</td>\n",
              "      <td>nonexistent</td>\n",
              "      <td>1.1</td>\n",
              "      <td>93.994</td>\n",
              "      <td>-36.4</td>\n",
              "      <td>4.857</td>\n",
              "      <td>5191.0</td>\n",
              "      <td>no</td>\n",
              "    </tr>\n",
              "    <tr>\n",
              "      <th>13</th>\n",
              "      <td>57</td>\n",
              "      <td>housemaid</td>\n",
              "      <td>divorced</td>\n",
              "      <td>basic.4y</td>\n",
              "      <td>no</td>\n",
              "      <td>yes</td>\n",
              "      <td>no</td>\n",
              "      <td>telephone</td>\n",
              "      <td>may</td>\n",
              "      <td>mon</td>\n",
              "      <td>293</td>\n",
              "      <td>1</td>\n",
              "      <td>6</td>\n",
              "      <td>0</td>\n",
              "      <td>nonexistent</td>\n",
              "      <td>1.1</td>\n",
              "      <td>93.994</td>\n",
              "      <td>-36.4</td>\n",
              "      <td>4.857</td>\n",
              "      <td>5191.0</td>\n",
              "      <td>no</td>\n",
              "    </tr>\n",
              "    <tr>\n",
              "      <th>14</th>\n",
              "      <td>35</td>\n",
              "      <td>blue-collar</td>\n",
              "      <td>married</td>\n",
              "      <td>basic.6y</td>\n",
              "      <td>no</td>\n",
              "      <td>yes</td>\n",
              "      <td>no</td>\n",
              "      <td>telephone</td>\n",
              "      <td>may</td>\n",
              "      <td>mon</td>\n",
              "      <td>146</td>\n",
              "      <td>1</td>\n",
              "      <td>6</td>\n",
              "      <td>0</td>\n",
              "      <td>nonexistent</td>\n",
              "      <td>1.1</td>\n",
              "      <td>93.994</td>\n",
              "      <td>-36.4</td>\n",
              "      <td>4.857</td>\n",
              "      <td>5191.0</td>\n",
              "      <td>no</td>\n",
              "    </tr>\n",
              "  </tbody>\n",
              "</table>\n",
              "</div>"
            ],
            "text/plain": [
              "    age          job   marital            education defaultCredit loanHousing  \\\n",
              "0    56    housemaid   married             basic.4y            no          no   \n",
              "1    57     services   married          high.school            no          no   \n",
              "2    37     services   married          high.school            no         yes   \n",
              "3    40       admin.   married             basic.6y            no          no   \n",
              "4    56     services   married          high.school            no          no   \n",
              "5    45     services   married             basic.9y            no          no   \n",
              "6    59       admin.   married  professional.course            no          no   \n",
              "7    41  blue-collar   married    university.degree            no          no   \n",
              "8    24   technician    single  professional.course            no         yes   \n",
              "9    25     services    single          high.school            no         yes   \n",
              "10   41  blue-collar   married    university.degree            no          no   \n",
              "11   25     services    single          high.school            no         yes   \n",
              "12   29  blue-collar    single          high.school            no          no   \n",
              "13   57    housemaid  divorced             basic.4y            no         yes   \n",
              "14   35  blue-collar   married             basic.6y            no         yes   \n",
              "\n",
              "   personalLoan    contact lastMonth lastDay  lastDuration  numOfContact  \\\n",
              "0            no  telephone       may     mon           261             1   \n",
              "1            no  telephone       may     mon           149             1   \n",
              "2            no  telephone       may     mon           226             1   \n",
              "3            no  telephone       may     mon           151             1   \n",
              "4           yes  telephone       may     mon           307             1   \n",
              "5            no  telephone       may     mon           198             1   \n",
              "6            no  telephone       may     mon           139             1   \n",
              "7            no  telephone       may     mon           217             1   \n",
              "8            no  telephone       may     mon           380             1   \n",
              "9            no  telephone       may     mon            50             1   \n",
              "10           no  telephone       may     mon            55             1   \n",
              "11           no  telephone       may     mon           222             1   \n",
              "12          yes  telephone       may     mon           137             1   \n",
              "13           no  telephone       may     mon           293             1   \n",
              "14           no  telephone       may     mon           146             1   \n",
              "\n",
              "    passedDay  prevNumOfContact  prevOutcome  emp.var.rate  cons.price.idx  \\\n",
              "0           6                 0  nonexistent           1.1          93.994   \n",
              "1           6                 0  nonexistent           1.1          93.994   \n",
              "2           6                 0  nonexistent           1.1          93.994   \n",
              "3           6                 0  nonexistent           1.1          93.994   \n",
              "4           6                 0  nonexistent           1.1          93.994   \n",
              "5           6                 0  nonexistent           1.1          93.994   \n",
              "6           6                 0  nonexistent           1.1          93.994   \n",
              "7           6                 0  nonexistent           1.1          93.994   \n",
              "8           6                 0  nonexistent           1.1          93.994   \n",
              "9           6                 0  nonexistent           1.1          93.994   \n",
              "10          6                 0  nonexistent           1.1          93.994   \n",
              "11          6                 0  nonexistent           1.1          93.994   \n",
              "12          6                 0  nonexistent           1.1          93.994   \n",
              "13          6                 0  nonexistent           1.1          93.994   \n",
              "14          6                 0  nonexistent           1.1          93.994   \n",
              "\n",
              "    cons.conf.idx  euribor3m  nr.employed subscribed  \n",
              "0           -36.4      4.857       5191.0         no  \n",
              "1           -36.4      4.857       5191.0         no  \n",
              "2           -36.4      4.857       5191.0         no  \n",
              "3           -36.4      4.857       5191.0         no  \n",
              "4           -36.4      4.857       5191.0         no  \n",
              "5           -36.4      4.857       5191.0         no  \n",
              "6           -36.4      4.857       5191.0         no  \n",
              "7           -36.4      4.857       5191.0         no  \n",
              "8           -36.4      4.857       5191.0         no  \n",
              "9           -36.4      4.857       5191.0         no  \n",
              "10          -36.4      4.857       5191.0         no  \n",
              "11          -36.4      4.857       5191.0         no  \n",
              "12          -36.4      4.857       5191.0         no  \n",
              "13          -36.4      4.857       5191.0         no  \n",
              "14          -36.4      4.857       5191.0         no  "
            ]
          },
          "metadata": {
            "tags": []
          },
          "execution_count": 35
        }
      ]
    },
    {
      "cell_type": "code",
      "metadata": {
        "colab": {
          "base_uri": "https://localhost:8080/"
        },
        "id": "f4e9b2a9",
        "outputId": "c89facd1-aeba-4951-ae1e-e7218a248a99"
      },
      "source": [
        "for col in cols:\n",
        "    print(dfnew[col].unique())"
      ],
      "id": "f4e9b2a9",
      "execution_count": 36,
      "outputs": [
        {
          "output_type": "stream",
          "text": [
            "['housemaid' 'services' 'admin.' 'blue-collar' 'technician' 'retired'\n",
            " 'management' 'unemployed' 'self-employed' 'entrepreneur' 'student']\n",
            "['married' 'single' 'divorced']\n",
            "['basic.4y' 'high.school' 'basic.6y' 'basic.9y' 'professional.course'\n",
            " 'university.degree' 'illiterate']\n",
            "['no' 'yes']\n",
            "['no' 'yes']\n",
            "['no' 'yes']\n",
            "['telephone' 'cellular']\n",
            "['may' 'jun' 'jul' 'aug' 'oct' 'nov' 'dec' 'mar' 'apr' 'sep']\n",
            "['mon' 'tue' 'wed' 'thu' 'fri']\n",
            "['nonexistent' 'failure' 'success']\n",
            "['no' 'yes']\n"
          ],
          "name": "stdout"
        }
      ]
    },
    {
      "cell_type": "markdown",
      "metadata": {
        "id": "DZAeZ-SKcb9j"
      },
      "source": [
        "Data Categoric akan saya ubah jadi numeric menggunakan LabelEncoder()"
      ],
      "id": "DZAeZ-SKcb9j"
    },
    {
      "cell_type": "code",
      "metadata": {
        "id": "b821dd29"
      },
      "source": [
        "cols = ['job','marital','education','defaultCredit','loanHousing','personalLoan',\n",
        "        'contact','lastMonth','lastDay','prevOutcome','subscribed']\n",
        "lbl = LabelEncoder()\n",
        "for col in cols:\n",
        "    dfnew[col] = lbl.fit_transform(dfnew[col])"
      ],
      "id": "b821dd29",
      "execution_count": 37,
      "outputs": []
    },
    {
      "cell_type": "code",
      "metadata": {
        "colab": {
          "base_uri": "https://localhost:8080/",
          "height": 204
        },
        "id": "ed4ab4a4",
        "outputId": "acf07420-e596-45d2-b22c-e4cec103efb9"
      },
      "source": [
        "dfnew[cols].head()"
      ],
      "id": "ed4ab4a4",
      "execution_count": 38,
      "outputs": [
        {
          "output_type": "execute_result",
          "data": {
            "text/html": [
              "<div>\n",
              "<style scoped>\n",
              "    .dataframe tbody tr th:only-of-type {\n",
              "        vertical-align: middle;\n",
              "    }\n",
              "\n",
              "    .dataframe tbody tr th {\n",
              "        vertical-align: top;\n",
              "    }\n",
              "\n",
              "    .dataframe thead th {\n",
              "        text-align: right;\n",
              "    }\n",
              "</style>\n",
              "<table border=\"1\" class=\"dataframe\">\n",
              "  <thead>\n",
              "    <tr style=\"text-align: right;\">\n",
              "      <th></th>\n",
              "      <th>job</th>\n",
              "      <th>marital</th>\n",
              "      <th>education</th>\n",
              "      <th>defaultCredit</th>\n",
              "      <th>loanHousing</th>\n",
              "      <th>personalLoan</th>\n",
              "      <th>contact</th>\n",
              "      <th>lastMonth</th>\n",
              "      <th>lastDay</th>\n",
              "      <th>prevOutcome</th>\n",
              "      <th>subscribed</th>\n",
              "    </tr>\n",
              "  </thead>\n",
              "  <tbody>\n",
              "    <tr>\n",
              "      <th>0</th>\n",
              "      <td>3</td>\n",
              "      <td>1</td>\n",
              "      <td>0</td>\n",
              "      <td>0</td>\n",
              "      <td>0</td>\n",
              "      <td>0</td>\n",
              "      <td>1</td>\n",
              "      <td>6</td>\n",
              "      <td>1</td>\n",
              "      <td>1</td>\n",
              "      <td>0</td>\n",
              "    </tr>\n",
              "    <tr>\n",
              "      <th>1</th>\n",
              "      <td>7</td>\n",
              "      <td>1</td>\n",
              "      <td>3</td>\n",
              "      <td>0</td>\n",
              "      <td>0</td>\n",
              "      <td>0</td>\n",
              "      <td>1</td>\n",
              "      <td>6</td>\n",
              "      <td>1</td>\n",
              "      <td>1</td>\n",
              "      <td>0</td>\n",
              "    </tr>\n",
              "    <tr>\n",
              "      <th>2</th>\n",
              "      <td>7</td>\n",
              "      <td>1</td>\n",
              "      <td>3</td>\n",
              "      <td>0</td>\n",
              "      <td>1</td>\n",
              "      <td>0</td>\n",
              "      <td>1</td>\n",
              "      <td>6</td>\n",
              "      <td>1</td>\n",
              "      <td>1</td>\n",
              "      <td>0</td>\n",
              "    </tr>\n",
              "    <tr>\n",
              "      <th>3</th>\n",
              "      <td>0</td>\n",
              "      <td>1</td>\n",
              "      <td>1</td>\n",
              "      <td>0</td>\n",
              "      <td>0</td>\n",
              "      <td>0</td>\n",
              "      <td>1</td>\n",
              "      <td>6</td>\n",
              "      <td>1</td>\n",
              "      <td>1</td>\n",
              "      <td>0</td>\n",
              "    </tr>\n",
              "    <tr>\n",
              "      <th>4</th>\n",
              "      <td>7</td>\n",
              "      <td>1</td>\n",
              "      <td>3</td>\n",
              "      <td>0</td>\n",
              "      <td>0</td>\n",
              "      <td>1</td>\n",
              "      <td>1</td>\n",
              "      <td>6</td>\n",
              "      <td>1</td>\n",
              "      <td>1</td>\n",
              "      <td>0</td>\n",
              "    </tr>\n",
              "  </tbody>\n",
              "</table>\n",
              "</div>"
            ],
            "text/plain": [
              "   job  marital  education  defaultCredit  loanHousing  personalLoan  contact  \\\n",
              "0    3        1          0              0            0             0        1   \n",
              "1    7        1          3              0            0             0        1   \n",
              "2    7        1          3              0            1             0        1   \n",
              "3    0        1          1              0            0             0        1   \n",
              "4    7        1          3              0            0             1        1   \n",
              "\n",
              "   lastMonth  lastDay  prevOutcome  subscribed  \n",
              "0          6        1            1           0  \n",
              "1          6        1            1           0  \n",
              "2          6        1            1           0  \n",
              "3          6        1            1           0  \n",
              "4          6        1            1           0  "
            ]
          },
          "metadata": {
            "tags": []
          },
          "execution_count": 38
        }
      ]
    },
    {
      "cell_type": "code",
      "metadata": {
        "colab": {
          "base_uri": "https://localhost:8080/",
          "height": 316
        },
        "id": "93b595f0",
        "outputId": "d64a7247-352a-4e82-852f-14510d9bd840"
      },
      "source": [
        "dfnew.describe()"
      ],
      "id": "93b595f0",
      "execution_count": 39,
      "outputs": [
        {
          "output_type": "execute_result",
          "data": {
            "text/html": [
              "<div>\n",
              "<style scoped>\n",
              "    .dataframe tbody tr th:only-of-type {\n",
              "        vertical-align: middle;\n",
              "    }\n",
              "\n",
              "    .dataframe tbody tr th {\n",
              "        vertical-align: top;\n",
              "    }\n",
              "\n",
              "    .dataframe thead th {\n",
              "        text-align: right;\n",
              "    }\n",
              "</style>\n",
              "<table border=\"1\" class=\"dataframe\">\n",
              "  <thead>\n",
              "    <tr style=\"text-align: right;\">\n",
              "      <th></th>\n",
              "      <th>age</th>\n",
              "      <th>job</th>\n",
              "      <th>marital</th>\n",
              "      <th>education</th>\n",
              "      <th>defaultCredit</th>\n",
              "      <th>loanHousing</th>\n",
              "      <th>personalLoan</th>\n",
              "      <th>contact</th>\n",
              "      <th>lastMonth</th>\n",
              "      <th>lastDay</th>\n",
              "      <th>lastDuration</th>\n",
              "      <th>numOfContact</th>\n",
              "      <th>passedDay</th>\n",
              "      <th>prevNumOfContact</th>\n",
              "      <th>prevOutcome</th>\n",
              "      <th>emp.var.rate</th>\n",
              "      <th>cons.price.idx</th>\n",
              "      <th>cons.conf.idx</th>\n",
              "      <th>euribor3m</th>\n",
              "      <th>nr.employed</th>\n",
              "      <th>subscribed</th>\n",
              "    </tr>\n",
              "  </thead>\n",
              "  <tbody>\n",
              "    <tr>\n",
              "      <th>count</th>\n",
              "      <td>41188.00000</td>\n",
              "      <td>41188.000000</td>\n",
              "      <td>41188.000000</td>\n",
              "      <td>41188.000000</td>\n",
              "      <td>41188.000000</td>\n",
              "      <td>41188.000000</td>\n",
              "      <td>41188.000000</td>\n",
              "      <td>41188.000000</td>\n",
              "      <td>41188.000000</td>\n",
              "      <td>41188.000000</td>\n",
              "      <td>41188.000000</td>\n",
              "      <td>41188.000000</td>\n",
              "      <td>41188.000000</td>\n",
              "      <td>41188.000000</td>\n",
              "      <td>41188.000000</td>\n",
              "      <td>41188.000000</td>\n",
              "      <td>41188.000000</td>\n",
              "      <td>41188.000000</td>\n",
              "      <td>41188.000000</td>\n",
              "      <td>41188.000000</td>\n",
              "      <td>41188.000000</td>\n",
              "    </tr>\n",
              "    <tr>\n",
              "      <th>mean</th>\n",
              "      <td>40.02406</td>\n",
              "      <td>3.716568</td>\n",
              "      <td>1.168884</td>\n",
              "      <td>3.705157</td>\n",
              "      <td>0.000073</td>\n",
              "      <td>0.523842</td>\n",
              "      <td>0.151695</td>\n",
              "      <td>0.365252</td>\n",
              "      <td>4.230868</td>\n",
              "      <td>2.004613</td>\n",
              "      <td>258.285010</td>\n",
              "      <td>2.567593</td>\n",
              "      <td>6.000534</td>\n",
              "      <td>0.172963</td>\n",
              "      <td>0.930101</td>\n",
              "      <td>0.081886</td>\n",
              "      <td>93.575664</td>\n",
              "      <td>-40.502600</td>\n",
              "      <td>3.621291</td>\n",
              "      <td>5167.035911</td>\n",
              "      <td>0.112654</td>\n",
              "    </tr>\n",
              "    <tr>\n",
              "      <th>std</th>\n",
              "      <td>10.42125</td>\n",
              "      <td>3.579417</td>\n",
              "      <td>0.603589</td>\n",
              "      <td>2.081202</td>\n",
              "      <td>0.008534</td>\n",
              "      <td>0.499437</td>\n",
              "      <td>0.358729</td>\n",
              "      <td>0.481507</td>\n",
              "      <td>2.320025</td>\n",
              "      <td>1.397575</td>\n",
              "      <td>259.279249</td>\n",
              "      <td>2.770014</td>\n",
              "      <td>0.733342</td>\n",
              "      <td>0.494901</td>\n",
              "      <td>0.362886</td>\n",
              "      <td>1.570960</td>\n",
              "      <td>0.578840</td>\n",
              "      <td>4.628198</td>\n",
              "      <td>1.734447</td>\n",
              "      <td>72.251528</td>\n",
              "      <td>0.316173</td>\n",
              "    </tr>\n",
              "    <tr>\n",
              "      <th>min</th>\n",
              "      <td>17.00000</td>\n",
              "      <td>0.000000</td>\n",
              "      <td>0.000000</td>\n",
              "      <td>0.000000</td>\n",
              "      <td>0.000000</td>\n",
              "      <td>0.000000</td>\n",
              "      <td>0.000000</td>\n",
              "      <td>0.000000</td>\n",
              "      <td>0.000000</td>\n",
              "      <td>0.000000</td>\n",
              "      <td>0.000000</td>\n",
              "      <td>1.000000</td>\n",
              "      <td>0.000000</td>\n",
              "      <td>0.000000</td>\n",
              "      <td>0.000000</td>\n",
              "      <td>-3.400000</td>\n",
              "      <td>92.201000</td>\n",
              "      <td>-50.800000</td>\n",
              "      <td>0.634000</td>\n",
              "      <td>4963.600000</td>\n",
              "      <td>0.000000</td>\n",
              "    </tr>\n",
              "    <tr>\n",
              "      <th>25%</th>\n",
              "      <td>32.00000</td>\n",
              "      <td>0.000000</td>\n",
              "      <td>1.000000</td>\n",
              "      <td>2.000000</td>\n",
              "      <td>0.000000</td>\n",
              "      <td>0.000000</td>\n",
              "      <td>0.000000</td>\n",
              "      <td>0.000000</td>\n",
              "      <td>3.000000</td>\n",
              "      <td>1.000000</td>\n",
              "      <td>102.000000</td>\n",
              "      <td>1.000000</td>\n",
              "      <td>6.000000</td>\n",
              "      <td>0.000000</td>\n",
              "      <td>1.000000</td>\n",
              "      <td>-1.800000</td>\n",
              "      <td>93.075000</td>\n",
              "      <td>-42.700000</td>\n",
              "      <td>1.344000</td>\n",
              "      <td>5099.100000</td>\n",
              "      <td>0.000000</td>\n",
              "    </tr>\n",
              "    <tr>\n",
              "      <th>50%</th>\n",
              "      <td>38.00000</td>\n",
              "      <td>2.000000</td>\n",
              "      <td>1.000000</td>\n",
              "      <td>3.000000</td>\n",
              "      <td>0.000000</td>\n",
              "      <td>1.000000</td>\n",
              "      <td>0.000000</td>\n",
              "      <td>0.000000</td>\n",
              "      <td>4.000000</td>\n",
              "      <td>2.000000</td>\n",
              "      <td>180.000000</td>\n",
              "      <td>2.000000</td>\n",
              "      <td>6.000000</td>\n",
              "      <td>0.000000</td>\n",
              "      <td>1.000000</td>\n",
              "      <td>1.100000</td>\n",
              "      <td>93.749000</td>\n",
              "      <td>-41.800000</td>\n",
              "      <td>4.857000</td>\n",
              "      <td>5191.000000</td>\n",
              "      <td>0.000000</td>\n",
              "    </tr>\n",
              "    <tr>\n",
              "      <th>75%</th>\n",
              "      <td>47.00000</td>\n",
              "      <td>7.000000</td>\n",
              "      <td>2.000000</td>\n",
              "      <td>6.000000</td>\n",
              "      <td>0.000000</td>\n",
              "      <td>1.000000</td>\n",
              "      <td>0.000000</td>\n",
              "      <td>1.000000</td>\n",
              "      <td>6.000000</td>\n",
              "      <td>3.000000</td>\n",
              "      <td>319.000000</td>\n",
              "      <td>3.000000</td>\n",
              "      <td>6.000000</td>\n",
              "      <td>0.000000</td>\n",
              "      <td>1.000000</td>\n",
              "      <td>1.400000</td>\n",
              "      <td>93.994000</td>\n",
              "      <td>-36.400000</td>\n",
              "      <td>4.961000</td>\n",
              "      <td>5228.100000</td>\n",
              "      <td>0.000000</td>\n",
              "    </tr>\n",
              "    <tr>\n",
              "      <th>max</th>\n",
              "      <td>98.00000</td>\n",
              "      <td>10.000000</td>\n",
              "      <td>2.000000</td>\n",
              "      <td>6.000000</td>\n",
              "      <td>1.000000</td>\n",
              "      <td>1.000000</td>\n",
              "      <td>1.000000</td>\n",
              "      <td>1.000000</td>\n",
              "      <td>9.000000</td>\n",
              "      <td>4.000000</td>\n",
              "      <td>4918.000000</td>\n",
              "      <td>56.000000</td>\n",
              "      <td>27.000000</td>\n",
              "      <td>7.000000</td>\n",
              "      <td>2.000000</td>\n",
              "      <td>1.400000</td>\n",
              "      <td>94.767000</td>\n",
              "      <td>-26.900000</td>\n",
              "      <td>5.045000</td>\n",
              "      <td>5228.100000</td>\n",
              "      <td>1.000000</td>\n",
              "    </tr>\n",
              "  </tbody>\n",
              "</table>\n",
              "</div>"
            ],
            "text/plain": [
              "               age           job       marital     education  defaultCredit  \\\n",
              "count  41188.00000  41188.000000  41188.000000  41188.000000   41188.000000   \n",
              "mean      40.02406      3.716568      1.168884      3.705157       0.000073   \n",
              "std       10.42125      3.579417      0.603589      2.081202       0.008534   \n",
              "min       17.00000      0.000000      0.000000      0.000000       0.000000   \n",
              "25%       32.00000      0.000000      1.000000      2.000000       0.000000   \n",
              "50%       38.00000      2.000000      1.000000      3.000000       0.000000   \n",
              "75%       47.00000      7.000000      2.000000      6.000000       0.000000   \n",
              "max       98.00000     10.000000      2.000000      6.000000       1.000000   \n",
              "\n",
              "        loanHousing  personalLoan       contact     lastMonth       lastDay  \\\n",
              "count  41188.000000  41188.000000  41188.000000  41188.000000  41188.000000   \n",
              "mean       0.523842      0.151695      0.365252      4.230868      2.004613   \n",
              "std        0.499437      0.358729      0.481507      2.320025      1.397575   \n",
              "min        0.000000      0.000000      0.000000      0.000000      0.000000   \n",
              "25%        0.000000      0.000000      0.000000      3.000000      1.000000   \n",
              "50%        1.000000      0.000000      0.000000      4.000000      2.000000   \n",
              "75%        1.000000      0.000000      1.000000      6.000000      3.000000   \n",
              "max        1.000000      1.000000      1.000000      9.000000      4.000000   \n",
              "\n",
              "       lastDuration  numOfContact     passedDay  prevNumOfContact  \\\n",
              "count  41188.000000  41188.000000  41188.000000      41188.000000   \n",
              "mean     258.285010      2.567593      6.000534          0.172963   \n",
              "std      259.279249      2.770014      0.733342          0.494901   \n",
              "min        0.000000      1.000000      0.000000          0.000000   \n",
              "25%      102.000000      1.000000      6.000000          0.000000   \n",
              "50%      180.000000      2.000000      6.000000          0.000000   \n",
              "75%      319.000000      3.000000      6.000000          0.000000   \n",
              "max     4918.000000     56.000000     27.000000          7.000000   \n",
              "\n",
              "        prevOutcome  emp.var.rate  cons.price.idx  cons.conf.idx  \\\n",
              "count  41188.000000  41188.000000    41188.000000   41188.000000   \n",
              "mean       0.930101      0.081886       93.575664     -40.502600   \n",
              "std        0.362886      1.570960        0.578840       4.628198   \n",
              "min        0.000000     -3.400000       92.201000     -50.800000   \n",
              "25%        1.000000     -1.800000       93.075000     -42.700000   \n",
              "50%        1.000000      1.100000       93.749000     -41.800000   \n",
              "75%        1.000000      1.400000       93.994000     -36.400000   \n",
              "max        2.000000      1.400000       94.767000     -26.900000   \n",
              "\n",
              "          euribor3m   nr.employed    subscribed  \n",
              "count  41188.000000  41188.000000  41188.000000  \n",
              "mean       3.621291   5167.035911      0.112654  \n",
              "std        1.734447     72.251528      0.316173  \n",
              "min        0.634000   4963.600000      0.000000  \n",
              "25%        1.344000   5099.100000      0.000000  \n",
              "50%        4.857000   5191.000000      0.000000  \n",
              "75%        4.961000   5228.100000      0.000000  \n",
              "max        5.045000   5228.100000      1.000000  "
            ]
          },
          "metadata": {
            "tags": []
          },
          "execution_count": 39
        }
      ]
    },
    {
      "cell_type": "code",
      "metadata": {
        "colab": {
          "base_uri": "https://localhost:8080/",
          "height": 844
        },
        "id": "493f53ab",
        "outputId": "d76e265f-8b8a-44f6-9da3-020535cdd130"
      },
      "source": [
        "fig, ax = plt.subplots(figsize=(13,13))\n",
        "sns.heatmap(dfnew.corr(), annot=True, linewidths=.05, ax=ax)\n",
        "plt.show()"
      ],
      "id": "493f53ab",
      "execution_count": 40,
      "outputs": [
        {
          "output_type": "display_data",
          "data": {
            "image/png": "[encoded data removed]",
            "text/plain": [
              "<Figure size 936x936 with 2 Axes>"
            ]
          },
          "metadata": {
            "tags": [],
            "needs_background": "light"
          }
        }
      ]
    },
    {
      "cell_type": "markdown",
      "metadata": {
        "id": "669a0eb2"
      },
      "source": [
        "lastDuration memiliki korelasi dengan subcribed, juka durasi 0, maka subscribe no"
      ],
      "id": "669a0eb2"
    },
    {
      "cell_type": "markdown",
      "metadata": {
        "id": "gcKgmTpqZU2U"
      },
      "source": [
        "# Data Preprocessing"
      ],
      "id": "gcKgmTpqZU2U"
    },
    {
      "cell_type": "markdown",
      "metadata": {
        "id": "w_BnglsLcs_c"
      },
      "source": [
        "Mencari multicollinearity"
      ],
      "id": "w_BnglsLcs_c"
    },
    {
      "cell_type": "code",
      "metadata": {
        "colab": {
          "base_uri": "https://localhost:8080/",
          "height": 667
        },
        "id": "92468ed1",
        "outputId": "fac92d98-ff82-471f-f7a6-ea9c7f328fb3"
      },
      "source": [
        "features=dfnew.drop(columns='subscribed')\n",
        "vif_data = pd.DataFrame()\n",
        "vif_data[\"feature\"] = features.columns\n",
        "vif_data[\"VIF\"] = [variance_inflation_factor(features.values, i) for i in range(len(features.columns))]\n",
        "vif_data"
      ],
      "id": "92468ed1",
      "execution_count": 41,
      "outputs": [
        {
          "output_type": "execute_result",
          "data": {
            "text/html": [
              "<div>\n",
              "<style scoped>\n",
              "    .dataframe tbody tr th:only-of-type {\n",
              "        vertical-align: middle;\n",
              "    }\n",
              "\n",
              "    .dataframe tbody tr th {\n",
              "        vertical-align: top;\n",
              "    }\n",
              "\n",
              "    .dataframe thead th {\n",
              "        text-align: right;\n",
              "    }\n",
              "</style>\n",
              "<table border=\"1\" class=\"dataframe\">\n",
              "  <thead>\n",
              "    <tr style=\"text-align: right;\">\n",
              "      <th></th>\n",
              "      <th>feature</th>\n",
              "      <th>VIF</th>\n",
              "    </tr>\n",
              "  </thead>\n",
              "  <tbody>\n",
              "    <tr>\n",
              "      <th>0</th>\n",
              "      <td>age</td>\n",
              "      <td>19.411246</td>\n",
              "    </tr>\n",
              "    <tr>\n",
              "      <th>1</th>\n",
              "      <td>job</td>\n",
              "      <td>2.124424</td>\n",
              "    </tr>\n",
              "    <tr>\n",
              "      <th>2</th>\n",
              "      <td>marital</td>\n",
              "      <td>5.719821</td>\n",
              "    </tr>\n",
              "    <tr>\n",
              "      <th>3</th>\n",
              "      <td>education</td>\n",
              "      <td>4.473677</td>\n",
              "    </tr>\n",
              "    <tr>\n",
              "      <th>4</th>\n",
              "      <td>defaultCredit</td>\n",
              "      <td>1.000559</td>\n",
              "    </tr>\n",
              "    <tr>\n",
              "      <th>5</th>\n",
              "      <td>loanHousing</td>\n",
              "      <td>2.125115</td>\n",
              "    </tr>\n",
              "    <tr>\n",
              "      <th>6</th>\n",
              "      <td>personalLoan</td>\n",
              "      <td>1.183471</td>\n",
              "    </tr>\n",
              "    <tr>\n",
              "      <th>7</th>\n",
              "      <td>contact</td>\n",
              "      <td>2.839175</td>\n",
              "    </tr>\n",
              "    <tr>\n",
              "      <th>8</th>\n",
              "      <td>lastMonth</td>\n",
              "      <td>6.776280</td>\n",
              "    </tr>\n",
              "    <tr>\n",
              "      <th>9</th>\n",
              "      <td>lastDay</td>\n",
              "      <td>3.085020</td>\n",
              "    </tr>\n",
              "    <tr>\n",
              "      <th>10</th>\n",
              "      <td>lastDuration</td>\n",
              "      <td>2.016472</td>\n",
              "    </tr>\n",
              "    <tr>\n",
              "      <th>11</th>\n",
              "      <td>numOfContact</td>\n",
              "      <td>1.930131</td>\n",
              "    </tr>\n",
              "    <tr>\n",
              "      <th>12</th>\n",
              "      <td>passedDay</td>\n",
              "      <td>69.990477</td>\n",
              "    </tr>\n",
              "    <tr>\n",
              "      <th>13</th>\n",
              "      <td>prevNumOfContact</td>\n",
              "      <td>1.762701</td>\n",
              "    </tr>\n",
              "    <tr>\n",
              "      <th>14</th>\n",
              "      <td>prevOutcome</td>\n",
              "      <td>9.433049</td>\n",
              "    </tr>\n",
              "    <tr>\n",
              "      <th>15</th>\n",
              "      <td>emp.var.rate</td>\n",
              "      <td>40.121064</td>\n",
              "    </tr>\n",
              "    <tr>\n",
              "      <th>16</th>\n",
              "      <td>cons.price.idx</td>\n",
              "      <td>37632.030682</td>\n",
              "    </tr>\n",
              "    <tr>\n",
              "      <th>17</th>\n",
              "      <td>cons.conf.idx</td>\n",
              "      <td>131.778687</td>\n",
              "    </tr>\n",
              "    <tr>\n",
              "      <th>18</th>\n",
              "      <td>euribor3m</td>\n",
              "      <td>330.800862</td>\n",
              "    </tr>\n",
              "    <tr>\n",
              "      <th>19</th>\n",
              "      <td>nr.employed</td>\n",
              "      <td>43015.161102</td>\n",
              "    </tr>\n",
              "  </tbody>\n",
              "</table>\n",
              "</div>"
            ],
            "text/plain": [
              "             feature           VIF\n",
              "0                age     19.411246\n",
              "1                job      2.124424\n",
              "2            marital      5.719821\n",
              "3          education      4.473677\n",
              "4      defaultCredit      1.000559\n",
              "5        loanHousing      2.125115\n",
              "6       personalLoan      1.183471\n",
              "7            contact      2.839175\n",
              "8          lastMonth      6.776280\n",
              "9            lastDay      3.085020\n",
              "10      lastDuration      2.016472\n",
              "11      numOfContact      1.930131\n",
              "12         passedDay     69.990477\n",
              "13  prevNumOfContact      1.762701\n",
              "14       prevOutcome      9.433049\n",
              "15      emp.var.rate     40.121064\n",
              "16    cons.price.idx  37632.030682\n",
              "17     cons.conf.idx    131.778687\n",
              "18         euribor3m    330.800862\n",
              "19       nr.employed  43015.161102"
            ]
          },
          "metadata": {
            "tags": []
          },
          "execution_count": 41
        }
      ]
    },
    {
      "cell_type": "code",
      "metadata": {
        "id": "ba06833c"
      },
      "source": [
        "dfnew = dfnew.drop(['emp.var.rate','nr.employed','prevNumOfContact','lastMonth','lastDay','numOfContact',\n",
        "                    'cons.price.idx','age','passedDay'], axis=1)"
      ],
      "id": "ba06833c",
      "execution_count": 42,
      "outputs": []
    },
    {
      "cell_type": "code",
      "metadata": {
        "colab": {
          "base_uri": "https://localhost:8080/",
          "height": 49
        },
        "id": "5dc0afeb",
        "outputId": "eaef7436-88a9-4866-cd00-0ecff6bf81a5"
      },
      "source": [
        "dfnew.loc[(dfnew['defaultCredit']==1)&(dfnew['subscribed']==1)]"
      ],
      "id": "5dc0afeb",
      "execution_count": 43,
      "outputs": [
        {
          "output_type": "execute_result",
          "data": {
            "text/html": [
              "<div>\n",
              "<style scoped>\n",
              "    .dataframe tbody tr th:only-of-type {\n",
              "        vertical-align: middle;\n",
              "    }\n",
              "\n",
              "    .dataframe tbody tr th {\n",
              "        vertical-align: top;\n",
              "    }\n",
              "\n",
              "    .dataframe thead th {\n",
              "        text-align: right;\n",
              "    }\n",
              "</style>\n",
              "<table border=\"1\" class=\"dataframe\">\n",
              "  <thead>\n",
              "    <tr style=\"text-align: right;\">\n",
              "      <th></th>\n",
              "      <th>job</th>\n",
              "      <th>marital</th>\n",
              "      <th>education</th>\n",
              "      <th>defaultCredit</th>\n",
              "      <th>loanHousing</th>\n",
              "      <th>personalLoan</th>\n",
              "      <th>contact</th>\n",
              "      <th>lastDuration</th>\n",
              "      <th>prevOutcome</th>\n",
              "      <th>cons.conf.idx</th>\n",
              "      <th>euribor3m</th>\n",
              "      <th>subscribed</th>\n",
              "    </tr>\n",
              "  </thead>\n",
              "  <tbody>\n",
              "  </tbody>\n",
              "</table>\n",
              "</div>"
            ],
            "text/plain": [
              "Empty DataFrame\n",
              "Columns: [job, marital, education, defaultCredit, loanHousing, personalLoan, contact, lastDuration, prevOutcome, cons.conf.idx, euribor3m, subscribed]\n",
              "Index: []"
            ]
          },
          "metadata": {
            "tags": []
          },
          "execution_count": 43
        }
      ]
    },
    {
      "cell_type": "code",
      "metadata": {
        "id": "1b4fced4"
      },
      "source": [
        "dfnew = dfnew.drop(['defaultCredit'], axis=1)"
      ],
      "id": "1b4fced4",
      "execution_count": 44,
      "outputs": []
    },
    {
      "cell_type": "code",
      "metadata": {
        "colab": {
          "base_uri": "https://localhost:8080/",
          "height": 418
        },
        "id": "1mDdZFjKajwi",
        "outputId": "1a102382-8934-47e6-ef64-17d46cbd9ed3"
      },
      "source": [
        "dfnew"
      ],
      "id": "1mDdZFjKajwi",
      "execution_count": 45,
      "outputs": [
        {
          "output_type": "execute_result",
          "data": {
            "text/html": [
              "<div>\n",
              "<style scoped>\n",
              "    .dataframe tbody tr th:only-of-type {\n",
              "        vertical-align: middle;\n",
              "    }\n",
              "\n",
              "    .dataframe tbody tr th {\n",
              "        vertical-align: top;\n",
              "    }\n",
              "\n",
              "    .dataframe thead th {\n",
              "        text-align: right;\n",
              "    }\n",
              "</style>\n",
              "<table border=\"1\" class=\"dataframe\">\n",
              "  <thead>\n",
              "    <tr style=\"text-align: right;\">\n",
              "      <th></th>\n",
              "      <th>job</th>\n",
              "      <th>marital</th>\n",
              "      <th>education</th>\n",
              "      <th>loanHousing</th>\n",
              "      <th>personalLoan</th>\n",
              "      <th>contact</th>\n",
              "      <th>lastDuration</th>\n",
              "      <th>prevOutcome</th>\n",
              "      <th>cons.conf.idx</th>\n",
              "      <th>euribor3m</th>\n",
              "      <th>subscribed</th>\n",
              "    </tr>\n",
              "  </thead>\n",
              "  <tbody>\n",
              "    <tr>\n",
              "      <th>0</th>\n",
              "      <td>3</td>\n",
              "      <td>1</td>\n",
              "      <td>0</td>\n",
              "      <td>0</td>\n",
              "      <td>0</td>\n",
              "      <td>1</td>\n",
              "      <td>261</td>\n",
              "      <td>1</td>\n",
              "      <td>-36.4</td>\n",
              "      <td>4.857</td>\n",
              "      <td>0</td>\n",
              "    </tr>\n",
              "    <tr>\n",
              "      <th>1</th>\n",
              "      <td>7</td>\n",
              "      <td>1</td>\n",
              "      <td>3</td>\n",
              "      <td>0</td>\n",
              "      <td>0</td>\n",
              "      <td>1</td>\n",
              "      <td>149</td>\n",
              "      <td>1</td>\n",
              "      <td>-36.4</td>\n",
              "      <td>4.857</td>\n",
              "      <td>0</td>\n",
              "    </tr>\n",
              "    <tr>\n",
              "      <th>2</th>\n",
              "      <td>7</td>\n",
              "      <td>1</td>\n",
              "      <td>3</td>\n",
              "      <td>1</td>\n",
              "      <td>0</td>\n",
              "      <td>1</td>\n",
              "      <td>226</td>\n",
              "      <td>1</td>\n",
              "      <td>-36.4</td>\n",
              "      <td>4.857</td>\n",
              "      <td>0</td>\n",
              "    </tr>\n",
              "    <tr>\n",
              "      <th>3</th>\n",
              "      <td>0</td>\n",
              "      <td>1</td>\n",
              "      <td>1</td>\n",
              "      <td>0</td>\n",
              "      <td>0</td>\n",
              "      <td>1</td>\n",
              "      <td>151</td>\n",
              "      <td>1</td>\n",
              "      <td>-36.4</td>\n",
              "      <td>4.857</td>\n",
              "      <td>0</td>\n",
              "    </tr>\n",
              "    <tr>\n",
              "      <th>4</th>\n",
              "      <td>7</td>\n",
              "      <td>1</td>\n",
              "      <td>3</td>\n",
              "      <td>0</td>\n",
              "      <td>1</td>\n",
              "      <td>1</td>\n",
              "      <td>307</td>\n",
              "      <td>1</td>\n",
              "      <td>-36.4</td>\n",
              "      <td>4.857</td>\n",
              "      <td>0</td>\n",
              "    </tr>\n",
              "    <tr>\n",
              "      <th>...</th>\n",
              "      <td>...</td>\n",
              "      <td>...</td>\n",
              "      <td>...</td>\n",
              "      <td>...</td>\n",
              "      <td>...</td>\n",
              "      <td>...</td>\n",
              "      <td>...</td>\n",
              "      <td>...</td>\n",
              "      <td>...</td>\n",
              "      <td>...</td>\n",
              "      <td>...</td>\n",
              "    </tr>\n",
              "    <tr>\n",
              "      <th>41183</th>\n",
              "      <td>5</td>\n",
              "      <td>1</td>\n",
              "      <td>5</td>\n",
              "      <td>1</td>\n",
              "      <td>0</td>\n",
              "      <td>0</td>\n",
              "      <td>334</td>\n",
              "      <td>1</td>\n",
              "      <td>-50.8</td>\n",
              "      <td>1.028</td>\n",
              "      <td>1</td>\n",
              "    </tr>\n",
              "    <tr>\n",
              "      <th>41184</th>\n",
              "      <td>1</td>\n",
              "      <td>1</td>\n",
              "      <td>5</td>\n",
              "      <td>0</td>\n",
              "      <td>0</td>\n",
              "      <td>0</td>\n",
              "      <td>383</td>\n",
              "      <td>1</td>\n",
              "      <td>-50.8</td>\n",
              "      <td>1.028</td>\n",
              "      <td>0</td>\n",
              "    </tr>\n",
              "    <tr>\n",
              "      <th>41185</th>\n",
              "      <td>5</td>\n",
              "      <td>1</td>\n",
              "      <td>6</td>\n",
              "      <td>1</td>\n",
              "      <td>0</td>\n",
              "      <td>0</td>\n",
              "      <td>189</td>\n",
              "      <td>1</td>\n",
              "      <td>-50.8</td>\n",
              "      <td>1.028</td>\n",
              "      <td>0</td>\n",
              "    </tr>\n",
              "    <tr>\n",
              "      <th>41186</th>\n",
              "      <td>9</td>\n",
              "      <td>1</td>\n",
              "      <td>5</td>\n",
              "      <td>0</td>\n",
              "      <td>0</td>\n",
              "      <td>0</td>\n",
              "      <td>442</td>\n",
              "      <td>1</td>\n",
              "      <td>-50.8</td>\n",
              "      <td>1.028</td>\n",
              "      <td>1</td>\n",
              "    </tr>\n",
              "    <tr>\n",
              "      <th>41187</th>\n",
              "      <td>5</td>\n",
              "      <td>1</td>\n",
              "      <td>5</td>\n",
              "      <td>1</td>\n",
              "      <td>0</td>\n",
              "      <td>0</td>\n",
              "      <td>239</td>\n",
              "      <td>0</td>\n",
              "      <td>-50.8</td>\n",
              "      <td>1.028</td>\n",
              "      <td>0</td>\n",
              "    </tr>\n",
              "  </tbody>\n",
              "</table>\n",
              "<p>41188 rows × 11 columns</p>\n",
              "</div>"
            ],
            "text/plain": [
              "       job  marital  education  loanHousing  personalLoan  contact  \\\n",
              "0        3        1          0            0             0        1   \n",
              "1        7        1          3            0             0        1   \n",
              "2        7        1          3            1             0        1   \n",
              "3        0        1          1            0             0        1   \n",
              "4        7        1          3            0             1        1   \n",
              "...    ...      ...        ...          ...           ...      ...   \n",
              "41183    5        1          5            1             0        0   \n",
              "41184    1        1          5            0             0        0   \n",
              "41185    5        1          6            1             0        0   \n",
              "41186    9        1          5            0             0        0   \n",
              "41187    5        1          5            1             0        0   \n",
              "\n",
              "       lastDuration  prevOutcome  cons.conf.idx  euribor3m  subscribed  \n",
              "0               261            1          -36.4      4.857           0  \n",
              "1               149            1          -36.4      4.857           0  \n",
              "2               226            1          -36.4      4.857           0  \n",
              "3               151            1          -36.4      4.857           0  \n",
              "4               307            1          -36.4      4.857           0  \n",
              "...             ...          ...            ...        ...         ...  \n",
              "41183           334            1          -50.8      1.028           1  \n",
              "41184           383            1          -50.8      1.028           0  \n",
              "41185           189            1          -50.8      1.028           0  \n",
              "41186           442            1          -50.8      1.028           1  \n",
              "41187           239            0          -50.8      1.028           0  \n",
              "\n",
              "[41188 rows x 11 columns]"
            ]
          },
          "metadata": {
            "tags": []
          },
          "execution_count": 45
        }
      ]
    },
    {
      "cell_type": "markdown",
      "metadata": {
        "id": "irgMqH_dczUt"
      },
      "source": [
        "## Resampling"
      ],
      "id": "irgMqH_dczUt"
    },
    {
      "cell_type": "code",
      "metadata": {
        "colab": {
          "base_uri": "https://localhost:8080/",
          "height": 280
        },
        "id": "e5zrHWuFl4Lo",
        "outputId": "3a15619f-1cd4-4109-a28c-a1652e6281d4"
      },
      "source": [
        "dfnew['subscribed'].value_counts().plot(kind=\"bar\")"
      ],
      "id": "e5zrHWuFl4Lo",
      "execution_count": 46,
      "outputs": [
        {
          "output_type": "execute_result",
          "data": {
            "text/plain": [
              "<matplotlib.axes._subplots.AxesSubplot at 0x7f9615539790>"
            ]
          },
          "metadata": {
            "tags": []
          },
          "execution_count": 46
        },
        {
          "output_type": "display_data",
          "data": {
            "image/png": "[encoded data removed]",
            "text/plain": [
              "<Figure size 432x288 with 1 Axes>"
            ]
          },
          "metadata": {
            "tags": [],
            "needs_background": "light"
          }
        }
      ]
    },
    {
      "cell_type": "markdown",
      "metadata": {
        "id": "kfiFlGedc1hM"
      },
      "source": [
        "Menyamaratakan nilai 0 seperti nilai 1"
      ],
      "id": "kfiFlGedc1hM"
    },
    {
      "cell_type": "code",
      "metadata": {
        "id": "AWRN6TylmXe6"
      },
      "source": [
        "# Under Sampling\n",
        "No = dfnew[dfnew['subscribed']==0]\n",
        "Yes = dfnew[dfnew['subscribed']==1]\n",
        "dfnew = pd.concat([No.sample(len(Yes), random_state = 42), Yes], axis=0).reset_index(drop=True)"
      ],
      "id": "AWRN6TylmXe6",
      "execution_count": 47,
      "outputs": []
    },
    {
      "cell_type": "code",
      "metadata": {
        "colab": {
          "base_uri": "https://localhost:8080/",
          "height": 280
        },
        "id": "tKlfTOO-ml49",
        "outputId": "dd6dd78b-3eef-4d51-bed2-57bed3f5e10d"
      },
      "source": [
        "dfnew['subscribed'].value_counts().plot(kind=\"bar\")"
      ],
      "id": "tKlfTOO-ml49",
      "execution_count": 48,
      "outputs": [
        {
          "output_type": "execute_result",
          "data": {
            "text/plain": [
              "<matplotlib.axes._subplots.AxesSubplot at 0x7f9615fa2e10>"
            ]
          },
          "metadata": {
            "tags": []
          },
          "execution_count": 48
        },
        {
          "output_type": "display_data",
          "data": {
            "image/png": "[encoded data removed]",
            "text/plain": [
              "<Figure size 432x288 with 1 Axes>"
            ]
          },
          "metadata": {
            "tags": [],
            "needs_background": "light"
          }
        }
      ]
    },
    {
      "cell_type": "code",
      "metadata": {
        "id": "55324670"
      },
      "source": [
        "X = StandardScaler().fit_transform(dfnew.drop(['subscribed'], axis=1))\n",
        "y = dfnew['subscribed']"
      ],
      "id": "55324670",
      "execution_count": 49,
      "outputs": []
    },
    {
      "cell_type": "markdown",
      "metadata": {
        "id": "0jQkO1_bZccv"
      },
      "source": [
        "# Model Definition, Training and Evaluation"
      ],
      "id": "0jQkO1_bZccv"
    },
    {
      "cell_type": "markdown",
      "metadata": {
        "id": "4cf9f309"
      },
      "source": [
        "## KFOLD"
      ],
      "id": "4cf9f309"
    },
    {
      "cell_type": "code",
      "metadata": {
        "id": "7d89c2ab"
      },
      "source": [
        "kFold=KFold(n_splits=5)"
      ],
      "id": "7d89c2ab",
      "execution_count": 50,
      "outputs": []
    },
    {
      "cell_type": "code",
      "metadata": {
        "id": "5b17e4c4"
      },
      "source": [
        "cvInd=[[],[]]\n",
        "for trainInd, testInd in kFold.split(X):\n",
        "    cvInd[0].append(trainInd)\n",
        "    cvInd[1].append(testInd)"
      ],
      "id": "5b17e4c4",
      "execution_count": 51,
      "outputs": []
    },
    {
      "cell_type": "code",
      "metadata": {
        "colab": {
          "base_uri": "https://localhost:8080/"
        },
        "id": "64238662",
        "outputId": "fdea90e1-96f4-4bea-ddbf-97f85d41e53c"
      },
      "source": [
        "cvInd[0]"
      ],
      "id": "64238662",
      "execution_count": 52,
      "outputs": [
        {
          "output_type": "execute_result",
          "data": {
            "text/plain": [
              "[array([1856, 1857, 1858, ..., 9277, 9278, 9279]),\n",
              " array([   0,    1,    2, ..., 9277, 9278, 9279]),\n",
              " array([   0,    1,    2, ..., 9277, 9278, 9279]),\n",
              " array([   0,    1,    2, ..., 9277, 9278, 9279]),\n",
              " array([   0,    1,    2, ..., 7421, 7422, 7423])]"
            ]
          },
          "metadata": {
            "tags": []
          },
          "execution_count": 52
        }
      ]
    },
    {
      "cell_type": "code",
      "metadata": {
        "colab": {
          "base_uri": "https://localhost:8080/"
        },
        "id": "366d6a9d",
        "outputId": "71af8d95-d2ad-481d-a99f-05229cd4a73d"
      },
      "source": [
        "cvInd[1]"
      ],
      "id": "366d6a9d",
      "execution_count": 53,
      "outputs": [
        {
          "output_type": "execute_result",
          "data": {
            "text/plain": [
              "[array([   0,    1,    2, ..., 1853, 1854, 1855]),\n",
              " array([1856, 1857, 1858, ..., 3709, 3710, 3711]),\n",
              " array([3712, 3713, 3714, ..., 5565, 5566, 5567]),\n",
              " array([5568, 5569, 5570, ..., 7421, 7422, 7423]),\n",
              " array([7424, 7425, 7426, ..., 9277, 9278, 9279])]"
            ]
          },
          "metadata": {
            "tags": []
          },
          "execution_count": 53
        }
      ]
    },
    {
      "cell_type": "code",
      "metadata": {
        "colab": {
          "base_uri": "https://localhost:8080/"
        },
        "id": "G44AzrOEa68I",
        "outputId": "1058f256-1bea-477d-8d79-dbfb29281e78"
      },
      "source": [
        "accDT=[]\n",
        "modelDT = DecisionTreeClassifier() # ganti variable dan model\n",
        "for i in range(5):\n",
        "    print(\"range: \",i)\n",
        "    tr_id=cvInd[0][i]\n",
        "    ts_id=cvInd[1][i]\n",
        "\n",
        "    param={'max_depth':[4,5,6,8]} # ganti value\n",
        "    grid=GridSearchCV(modelDT,param,scoring='accuracy',cv=5,n_jobs=10) # ganti variable model\n",
        "    print(\"grid \",i)\n",
        "    %time grid.fit(X[tr_id],y[tr_id])\n",
        "    best = grid.best_params_ # tambah best\n",
        "    print(\"best parameter: \",best)\n",
        "    print(\"model \",i)\n",
        "    %time modelDT.fit(X[tr_id],y[tr_id]) # ganti nama model\n",
        "    y_pred=modelDT.predict(X[ts_id]) # ganti nama model\n",
        "    accDT.append(accuracy_score(y[ts_id],y_pred)) # ganti akurasi model\n",
        "    print(\"\\n\")"
      ],
      "id": "G44AzrOEa68I",
      "execution_count": 54,
      "outputs": [
        {
          "output_type": "stream",
          "text": [
            "range:  0\n",
            "grid  0\n",
            "CPU times: user 222 ms, sys: 112 ms, total: 334 ms\n",
            "Wall time: 6.1 s\n",
            "best parameter:  {'max_depth': 4}\n",
            "model  0\n",
            "CPU times: user 31.5 ms, sys: 68 µs, total: 31.6 ms\n",
            "Wall time: 31.6 ms\n",
            "\n",
            "\n",
            "range:  1\n",
            "grid  1\n",
            "CPU times: user 112 ms, sys: 5.77 ms, total: 117 ms\n",
            "Wall time: 283 ms\n",
            "best parameter:  {'max_depth': 4}\n",
            "model  1\n",
            "CPU times: user 24 ms, sys: 48 µs, total: 24.1 ms\n",
            "Wall time: 24.7 ms\n",
            "\n",
            "\n",
            "range:  2\n",
            "grid  2\n",
            "CPU times: user 102 ms, sys: 11.1 ms, total: 113 ms\n",
            "Wall time: 265 ms\n",
            "best parameter:  {'max_depth': 4}\n",
            "model  2\n",
            "CPU times: user 26.6 ms, sys: 0 ns, total: 26.6 ms\n",
            "Wall time: 25.4 ms\n",
            "\n",
            "\n",
            "range:  3\n",
            "grid  3\n",
            "CPU times: user 104 ms, sys: 7.16 ms, total: 111 ms\n",
            "Wall time: 259 ms\n",
            "best parameter:  {'max_depth': 4}\n",
            "model  3\n",
            "CPU times: user 22.4 ms, sys: 211 µs, total: 22.6 ms\n",
            "Wall time: 22.4 ms\n",
            "\n",
            "\n",
            "range:  4\n",
            "grid  4\n",
            "CPU times: user 100 ms, sys: 12.7 ms, total: 113 ms\n",
            "Wall time: 274 ms\n",
            "best parameter:  {'max_depth': 6}\n",
            "model  4\n",
            "CPU times: user 25.8 ms, sys: 945 µs, total: 26.7 ms\n",
            "Wall time: 27.4 ms\n",
            "\n",
            "\n"
          ],
          "name": "stdout"
        }
      ]
    },
    {
      "cell_type": "code",
      "metadata": {
        "colab": {
          "base_uri": "https://localhost:8080/"
        },
        "id": "9RWgLZeBqVcx",
        "outputId": "b2ef3b49-f0d7-4ab8-cc88-ec6639afae84"
      },
      "source": [
        "accDT = np.array(accDT)\n",
        "accDT = accDT.flatten()\n",
        "accDT"
      ],
      "id": "9RWgLZeBqVcx",
      "execution_count": 55,
      "outputs": [
        {
          "output_type": "execute_result",
          "data": {
            "text/plain": [
              "array([0.8205819 , 0.81303879, 0.47575431, 0.07165948, 0.05711207])"
            ]
          },
          "metadata": {
            "tags": []
          },
          "execution_count": 55
        }
      ]
    },
    {
      "cell_type": "code",
      "metadata": {
        "colab": {
          "base_uri": "https://localhost:8080/"
        },
        "id": "Y3EeOlzN9k-y",
        "outputId": "8a9b1a0e-64ce-4bd3-8513-3daccd63b2d4"
      },
      "source": [
        "tr_id=cvInd[0][np.argmax(accDT)]\n",
        "ts_id=cvInd[1][np.argmax(accDT)]\n",
        "modelDT.fit(X[tr_id],y[tr_id])\n",
        "y_pred=modelDT.predict(X[ts_id])\n",
        "print(accuracy_score(y[ts_id],y_pred))"
      ],
      "id": "Y3EeOlzN9k-y",
      "execution_count": 56,
      "outputs": [
        {
          "output_type": "stream",
          "text": [
            "0.8200431034482759\n"
          ],
          "name": "stdout"
        }
      ]
    },
    {
      "cell_type": "code",
      "metadata": {
        "colab": {
          "base_uri": "https://localhost:8080/"
        },
        "id": "TFJWJoJpa7I4",
        "outputId": "44fef183-82c6-47da-b251-ac090fa5234b"
      },
      "source": [
        "accRF=[] # ganti variable\n",
        "modelRF = RandomForestClassifier() # ganti variable dan model\n",
        "for i in range(5):\n",
        "    print(\"range: \",i)\n",
        "    tr_id=cvInd[0][i]\n",
        "    ts_id=cvInd[1][i]\n",
        "\n",
        "    param={'n_estimators':[50,100,150,200]} # ganti value\n",
        "    grid=GridSearchCV(modelRF,param,scoring='accuracy',cv=5,n_jobs=10) # ganti variable model\n",
        "    print(\"grid \",i)\n",
        "    %time grid.fit(X[tr_id],y[tr_id])\n",
        "    best = grid.best_params_ # tambah best\n",
        "    print(\"best parameter: \",best)\n",
        "    print(\"model \",i)\n",
        "    %time modelRF.fit(X[tr_id],y[tr_id]) # ganti nama model\n",
        "    y_pred=modelRF.predict(X[ts_id]) # ganti nama model\n",
        "    accRF.append(accuracy_score(y[ts_id],y_pred)) # ganti akurasi model\n",
        "    print(\"\\n\")"
      ],
      "id": "TFJWJoJpa7I4",
      "execution_count": 58,
      "outputs": [
        {
          "output_type": "stream",
          "text": [
            "range:  0\n",
            "grid  0\n",
            "CPU times: user 1.59 s, sys: 27.8 ms, total: 1.61 s\n",
            "Wall time: 13.7 s\n",
            "best parameter:  {'n_estimators': 200}\n",
            "model  0\n",
            "CPU times: user 713 ms, sys: 15.6 ms, total: 728 ms\n",
            "Wall time: 734 ms\n",
            "\n",
            "\n",
            "range:  1\n",
            "grid  1\n",
            "CPU times: user 640 ms, sys: 16.1 ms, total: 656 ms\n",
            "Wall time: 12.5 s\n",
            "best parameter:  {'n_estimators': 50}\n",
            "model  1\n",
            "CPU times: user 719 ms, sys: 1.76 ms, total: 720 ms\n",
            "Wall time: 722 ms\n",
            "\n",
            "\n",
            "range:  2\n",
            "grid  2\n",
            "CPU times: user 1.52 s, sys: 12.7 ms, total: 1.53 s\n",
            "Wall time: 12.9 s\n",
            "best parameter:  {'n_estimators': 200}\n",
            "model  2\n",
            "CPU times: user 673 ms, sys: 3.59 ms, total: 677 ms\n",
            "Wall time: 681 ms\n",
            "\n",
            "\n",
            "range:  3\n",
            "grid  3\n",
            "CPU times: user 764 ms, sys: 11 ms, total: 775 ms\n",
            "Wall time: 11.3 s\n",
            "best parameter:  {'n_estimators': 100}\n",
            "model  3\n",
            "CPU times: user 619 ms, sys: 1.55 ms, total: 620 ms\n",
            "Wall time: 621 ms\n",
            "\n",
            "\n",
            "range:  4\n",
            "grid  4\n",
            "CPU times: user 1.22 s, sys: 12.3 ms, total: 1.23 s\n",
            "Wall time: 13 s\n",
            "best parameter:  {'n_estimators': 150}\n",
            "model  4\n",
            "CPU times: user 713 ms, sys: 5.85 ms, total: 719 ms\n",
            "Wall time: 719 ms\n",
            "\n",
            "\n"
          ],
          "name": "stdout"
        }
      ]
    },
    {
      "cell_type": "code",
      "metadata": {
        "colab": {
          "base_uri": "https://localhost:8080/"
        },
        "id": "_RYECKb3qj5v",
        "outputId": "fff43410-84ae-467c-ccee-e9217d63bde2"
      },
      "source": [
        "accRF = np.array(accRF)\n",
        "accRF = accRF.flatten()\n",
        "accRF"
      ],
      "id": "_RYECKb3qj5v",
      "execution_count": 59,
      "outputs": [
        {
          "output_type": "execute_result",
          "data": {
            "text/plain": [
              "array([0.80926724, 0.80549569, 0.46551724, 0.0700431 , 0.04310345])"
            ]
          },
          "metadata": {
            "tags": []
          },
          "execution_count": 59
        }
      ]
    },
    {
      "cell_type": "code",
      "metadata": {
        "colab": {
          "base_uri": "https://localhost:8080/"
        },
        "id": "qQoz42hk-XdV",
        "outputId": "de3645fd-94aa-4854-fe99-e25b1d6e6041"
      },
      "source": [
        "tr_id=cvInd[0][np.argmax(accRF)]\n",
        "ts_id=cvInd[1][np.argmax(accRF)]\n",
        "modelRF.fit(X[tr_id],y[tr_id])\n",
        "y_pred=modelRF.predict(X[ts_id])\n",
        "print(accuracy_score(y[ts_id],y_pred))"
      ],
      "id": "qQoz42hk-XdV",
      "execution_count": 60,
      "outputs": [
        {
          "output_type": "stream",
          "text": [
            "0.8125\n"
          ],
          "name": "stdout"
        }
      ]
    },
    {
      "cell_type": "code",
      "metadata": {
        "colab": {
          "base_uri": "https://localhost:8080/"
        },
        "id": "-02ApEqXa7Th",
        "outputId": "c14f6bdf-5931-45c6-b759-869f5c8607c2"
      },
      "source": [
        "accGNB=[] # ganti variable\n",
        "modelGNB = GaussianNB() # ganti variable dan model\n",
        "for i in range(5):\n",
        "    print(\"range: \",i)\n",
        "    tr_id=cvInd[0][i]\n",
        "    ts_id=cvInd[1][i]\n",
        "\n",
        "    #param={'max_depth':[4,5,6,8]} # ganti value\n",
        "    #grid=GridSearchCV(modelDT,param,scoring='accuracy',cv=5,n_jobs=10) # ganti variable model\n",
        "     \n",
        "    #%time grid.fit(X[tr_id],y[tr_id])\n",
        "    print(\"model \",i)\n",
        "    %time modelGNB.fit(X[tr_id],y[tr_id])\n",
        "    y_pred=modelGNB.predict(X[ts_id])\n",
        "    accGNB.append(accuracy_score(y[ts_id],y_pred)) # ganti akurasi model\n",
        "    print(\"\\n\")"
      ],
      "id": "-02ApEqXa7Th",
      "execution_count": 62,
      "outputs": [
        {
          "output_type": "stream",
          "text": [
            "range:  0\n",
            "model  0\n",
            "CPU times: user 6.17 ms, sys: 0 ns, total: 6.17 ms\n",
            "Wall time: 7.48 ms\n",
            "\n",
            "\n",
            "range:  1\n",
            "model  1\n",
            "CPU times: user 6.02 ms, sys: 825 µs, total: 6.84 ms\n",
            "Wall time: 5.67 ms\n",
            "\n",
            "\n",
            "range:  2\n",
            "model  2\n",
            "CPU times: user 5.78 ms, sys: 77 µs, total: 5.86 ms\n",
            "Wall time: 5.01 ms\n",
            "\n",
            "\n",
            "range:  3\n",
            "model  3\n",
            "CPU times: user 4.67 ms, sys: 66 µs, total: 4.74 ms\n",
            "Wall time: 4.17 ms\n",
            "\n",
            "\n",
            "range:  4\n",
            "model  4\n",
            "CPU times: user 4.29 ms, sys: 28 µs, total: 4.32 ms\n",
            "Wall time: 3.77 ms\n",
            "\n",
            "\n"
          ],
          "name": "stdout"
        }
      ]
    },
    {
      "cell_type": "code",
      "metadata": {
        "colab": {
          "base_uri": "https://localhost:8080/"
        },
        "id": "3euA9qADqs1o",
        "outputId": "93e089a8-8de4-4902-b4de-a5b772fd7ec8"
      },
      "source": [
        "accGNB = np.array(accGNB)\n",
        "accGNB = accGNB.flatten()\n",
        "accGNB"
      ],
      "id": "3euA9qADqs1o",
      "execution_count": 63,
      "outputs": [
        {
          "output_type": "execute_result",
          "data": {
            "text/plain": [
              "array([0.69989224, 0.73706897, 0.52262931, 0.54418103, 0.48922414])"
            ]
          },
          "metadata": {
            "tags": []
          },
          "execution_count": 63
        }
      ]
    },
    {
      "cell_type": "code",
      "metadata": {
        "colab": {
          "base_uri": "https://localhost:8080/"
        },
        "id": "zvxxDA1h-hdx",
        "outputId": "66da1c94-fc60-400f-b60a-dc8f425220ab"
      },
      "source": [
        "tr_id=cvInd[0][np.argmax(accGNB)]\n",
        "ts_id=cvInd[1][np.argmax(accGNB)]\n",
        "modelGNB.fit(X[tr_id],y[tr_id])\n",
        "y_pred=modelGNB.predict(X[ts_id])\n",
        "print(accuracy_score(y[ts_id],y_pred))"
      ],
      "id": "zvxxDA1h-hdx",
      "execution_count": 64,
      "outputs": [
        {
          "output_type": "stream",
          "text": [
            "0.7370689655172413\n"
          ],
          "name": "stdout"
        }
      ]
    },
    {
      "cell_type": "code",
      "metadata": {
        "colab": {
          "base_uri": "https://localhost:8080/"
        },
        "id": "57jQUxv9etki",
        "outputId": "a0da5db2-2122-4815-ae2b-a9ee83a50146"
      },
      "source": [
        "accLR=[] # ganti variable\n",
        "modelLR = LogisticRegression(fit_intercept=True) # ganti variable dan model\n",
        "for i in range(5):\n",
        "    print(\"range: \",i)\n",
        "    tr_id=cvInd[0][i]\n",
        "    ts_id=cvInd[1][i]\n",
        "\n",
        "    param={'penalty':['l1','l2','elasticnet'],'solver':['newton-cg','lbfgs']} # ganti value\n",
        "    grid=GridSearchCV(modelLR,param,scoring='accuracy',cv=5,n_jobs=10)\n",
        "    %time grid.fit(X[tr_id],y[tr_id])\n",
        "    best = grid.best_params_ # tambah best\n",
        "    print(\"best parameter: \",best)\n",
        "    print(\"model \",i)\n",
        "    %time modelLR.fit(X[tr_id],y[tr_id]) # ganti nama model\n",
        "    y_pred=modelLR.predict(X[ts_id]) # ganti nama model\n",
        "    accLR.append(accuracy_score(y[ts_id],y_pred)) # ganti akurasi model\n",
        "    print(\"\\n\")"
      ],
      "id": "57jQUxv9etki",
      "execution_count": 66,
      "outputs": [
        {
          "output_type": "stream",
          "text": [
            "range:  0\n",
            "CPU times: user 197 ms, sys: 44 ms, total: 241 ms\n",
            "Wall time: 402 ms\n",
            "best parameter:  {'penalty': 'l2', 'solver': 'newton-cg'}\n",
            "model  0\n",
            "CPU times: user 17.9 ms, sys: 15 ms, total: 32.9 ms\n",
            "Wall time: 16.5 ms\n",
            "\n",
            "\n",
            "range:  1\n",
            "CPU times: user 208 ms, sys: 116 ms, total: 323 ms\n",
            "Wall time: 432 ms\n",
            "best parameter:  {'penalty': 'l2', 'solver': 'newton-cg'}\n",
            "model  1\n",
            "CPU times: user 17.4 ms, sys: 16.9 ms, total: 34.3 ms\n",
            "Wall time: 17.2 ms\n",
            "\n",
            "\n",
            "range:  2\n",
            "CPU times: user 210 ms, sys: 121 ms, total: 331 ms\n",
            "Wall time: 442 ms\n",
            "best parameter:  {'penalty': 'l2', 'solver': 'newton-cg'}\n",
            "model  2\n",
            "CPU times: user 19.9 ms, sys: 15 ms, total: 34.9 ms\n",
            "Wall time: 17.8 ms\n",
            "\n",
            "\n",
            "range:  3\n",
            "CPU times: user 204 ms, sys: 118 ms, total: 322 ms\n",
            "Wall time: 395 ms\n",
            "best parameter:  {'penalty': 'l2', 'solver': 'newton-cg'}\n",
            "model  3\n",
            "CPU times: user 17.6 ms, sys: 14.9 ms, total: 32.5 ms\n",
            "Wall time: 16.3 ms\n",
            "\n",
            "\n",
            "range:  4\n",
            "CPU times: user 214 ms, sys: 112 ms, total: 325 ms\n",
            "Wall time: 407 ms\n",
            "best parameter:  {'penalty': 'l2', 'solver': 'newton-cg'}\n",
            "model  4\n",
            "CPU times: user 24 ms, sys: 14.2 ms, total: 38.2 ms\n",
            "Wall time: 20.2 ms\n",
            "\n",
            "\n"
          ],
          "name": "stdout"
        }
      ]
    },
    {
      "cell_type": "code",
      "metadata": {
        "colab": {
          "base_uri": "https://localhost:8080/"
        },
        "id": "8830c293",
        "outputId": "bf55139b-1bed-45ab-8659-27cf7e9319aa"
      },
      "source": [
        "accLR = np.array(accLR)\n",
        "accLR = accLR.flatten()\n",
        "accLR"
      ],
      "id": "8830c293",
      "execution_count": 67,
      "outputs": [
        {
          "output_type": "execute_result",
          "data": {
            "text/plain": [
              "array([0.78286638, 0.80872845, 0.67564655, 0.59213362, 0.56734914])"
            ]
          },
          "metadata": {
            "tags": []
          },
          "execution_count": 67
        }
      ]
    },
    {
      "cell_type": "code",
      "metadata": {
        "colab": {
          "base_uri": "https://localhost:8080/"
        },
        "id": "9-_xMbGo_8ni",
        "outputId": "2678eed1-23f5-47ec-9b45-4bab2d924204"
      },
      "source": [
        "tr_id=cvInd[0][np.argmax(accLR)]\n",
        "ts_id=cvInd[1][np.argmax(accLR)]\n",
        "modelLR.fit(X[tr_id],y[tr_id])\n",
        "y_pred=modelLR.predict(X[ts_id])\n",
        "print(accuracy_score(y[ts_id],y_pred))"
      ],
      "id": "9-_xMbGo_8ni",
      "execution_count": 68,
      "outputs": [
        {
          "output_type": "stream",
          "text": [
            "0.8087284482758621\n"
          ],
          "name": "stdout"
        }
      ]
    },
    {
      "cell_type": "code",
      "metadata": {
        "colab": {
          "base_uri": "https://localhost:8080/"
        },
        "id": "rkkffHVaa7cy",
        "outputId": "cb0c6ea8-62d2-4aa9-8dbe-886237f15d8b"
      },
      "source": [
        "accSVC=[] # ganti variable\n",
        "modelSVC = SVC(kernel='rbf',C=0.1,probability=True) # ganti variable dan model\n",
        "for i in range(5):\n",
        "    print(\"range: \",i)\n",
        "    tr_id=cvInd[0][i]\n",
        "    ts_id=cvInd[1][i]\n",
        "    print(\"model \",i)\n",
        "    %time modelSVC.fit(X[tr_id],y[tr_id]) # ganti nama model\n",
        "    y_pred=modelSVC.predict(X[ts_id]) # ganti nama model\n",
        "    accSVC.append(accuracy_score(y[ts_id],y_pred)) # ganti akurasi model\n",
        "    print(\"\\n\")"
      ],
      "id": "rkkffHVaa7cy",
      "execution_count": 70,
      "outputs": [
        {
          "output_type": "stream",
          "text": [
            "range:  0\n",
            "model  0\n",
            "CPU times: user 6.21 s, sys: 170 ms, total: 6.38 s\n",
            "Wall time: 6.35 s\n",
            "\n",
            "\n",
            "range:  1\n",
            "model  1\n",
            "CPU times: user 6.17 s, sys: 64.9 ms, total: 6.23 s\n",
            "Wall time: 6.24 s\n",
            "\n",
            "\n",
            "range:  2\n",
            "model  2\n",
            "CPU times: user 6.11 s, sys: 60.4 ms, total: 6.17 s\n",
            "Wall time: 6.14 s\n",
            "\n",
            "\n",
            "range:  3\n",
            "model  3\n",
            "CPU times: user 5.36 s, sys: 45.4 ms, total: 5.4 s\n",
            "Wall time: 5.38 s\n",
            "\n",
            "\n",
            "range:  4\n",
            "model  4\n",
            "CPU times: user 6.88 s, sys: 62.7 ms, total: 6.94 s\n",
            "Wall time: 6.93 s\n",
            "\n",
            "\n"
          ],
          "name": "stdout"
        }
      ]
    },
    {
      "cell_type": "code",
      "metadata": {
        "colab": {
          "base_uri": "https://localhost:8080/"
        },
        "id": "03zVNgCsqzb8",
        "outputId": "51627e8e-447b-4038-8639-278b674fb16a"
      },
      "source": [
        "accSVC = np.array(accSVC)\n",
        "accSVC = accSVC.flatten()\n",
        "accSVC"
      ],
      "id": "03zVNgCsqzb8",
      "execution_count": 71,
      "outputs": [
        {
          "output_type": "execute_result",
          "data": {
            "text/plain": [
              "array([0.74407328, 0.76454741, 0.61799569, 0.44935345, 0.49946121])"
            ]
          },
          "metadata": {
            "tags": []
          },
          "execution_count": 71
        }
      ]
    },
    {
      "cell_type": "code",
      "metadata": {
        "colab": {
          "base_uri": "https://localhost:8080/"
        },
        "id": "wZ2MZFUAAIts",
        "outputId": "30e0c0c6-03db-49c2-dda0-bde516a54cec"
      },
      "source": [
        "tr_id=cvInd[0][np.argmax(accSVC)]\n",
        "ts_id=cvInd[1][np.argmax(accSVC)]\n",
        "modelSVC.fit(X[tr_id],y[tr_id])\n",
        "y_pred=modelSVC.predict(X[ts_id])\n",
        "print(accuracy_score(y[ts_id],y_pred))"
      ],
      "id": "wZ2MZFUAAIts",
      "execution_count": 72,
      "outputs": [
        {
          "output_type": "stream",
          "text": [
            "0.7645474137931034\n"
          ],
          "name": "stdout"
        }
      ]
    },
    {
      "cell_type": "code",
      "metadata": {
        "colab": {
          "base_uri": "https://localhost:8080/"
        },
        "id": "LIggzVgaa7lB",
        "outputId": "22552d8d-dcec-4876-db4e-76563b3e4ea2"
      },
      "source": [
        "accKNN=[] # ganti variable\n",
        "modelKNN = KNeighborsClassifier() # ganti variable dan model\n",
        "for i in range(5):\n",
        "    print(\"range: \",i)\n",
        "    tr_id=cvInd[0][i]\n",
        "    ts_id=cvInd[1][i]\n",
        "\n",
        "    param={'n_neighbors':[1,3,5,7],'algorithm':['ball_tree','kd_tree','brute']} # ganti value\n",
        "    grid=GridSearchCV(modelKNN,param,scoring='accuracy',cv=5,n_jobs=10) # ganti variable model\n",
        "    print(\"grid \",i)\n",
        "    %time grid.fit(X[tr_id],y[tr_id])\n",
        "    best = grid.best_params_ # tambah best\n",
        "    print(\"best parameter: \",best)\n",
        "    print(\"model \",i)\n",
        "    %time modelKNN.fit(X[tr_id],y[tr_id]) # ganti nama model\n",
        "    y_pred=modelKNN.predict(X[ts_id]) # ganti nama model\n",
        "    accKNN.append(accuracy_score(y[ts_id],y_pred)) # ganti akurasi model\n",
        "    print(\"\\n\")"
      ],
      "id": "LIggzVgaa7lB",
      "execution_count": 74,
      "outputs": [
        {
          "output_type": "stream",
          "text": [
            "range:  0\n",
            "grid  0\n",
            "CPU times: user 383 ms, sys: 23.2 ms, total: 407 ms\n",
            "Wall time: 8.74 s\n",
            "best parameter:  {'algorithm': 'ball_tree', 'n_neighbors': 7}\n",
            "model  0\n",
            "CPU times: user 13.6 ms, sys: 0 ns, total: 13.6 ms\n",
            "Wall time: 13.6 ms\n",
            "\n",
            "\n",
            "range:  1\n",
            "grid  1\n",
            "CPU times: user 361 ms, sys: 18.1 ms, total: 379 ms\n",
            "Wall time: 8.38 s\n",
            "best parameter:  {'algorithm': 'ball_tree', 'n_neighbors': 7}\n",
            "model  1\n",
            "CPU times: user 15.8 ms, sys: 1.09 ms, total: 16.9 ms\n",
            "Wall time: 15.8 ms\n",
            "\n",
            "\n",
            "range:  2\n",
            "grid  2\n",
            "CPU times: user 376 ms, sys: 15.5 ms, total: 392 ms\n",
            "Wall time: 8.33 s\n",
            "best parameter:  {'algorithm': 'ball_tree', 'n_neighbors': 7}\n",
            "model  2\n",
            "CPU times: user 14.8 ms, sys: 988 µs, total: 15.8 ms\n",
            "Wall time: 15 ms\n",
            "\n",
            "\n",
            "range:  3\n",
            "grid  3\n",
            "CPU times: user 377 ms, sys: 16 ms, total: 393 ms\n",
            "Wall time: 8.29 s\n",
            "best parameter:  {'algorithm': 'ball_tree', 'n_neighbors': 7}\n",
            "model  3\n",
            "CPU times: user 14 ms, sys: 0 ns, total: 14 ms\n",
            "Wall time: 14 ms\n",
            "\n",
            "\n",
            "range:  4\n",
            "grid  4\n",
            "CPU times: user 363 ms, sys: 17.6 ms, total: 381 ms\n",
            "Wall time: 8.37 s\n",
            "best parameter:  {'algorithm': 'ball_tree', 'n_neighbors': 5}\n",
            "model  4\n",
            "CPU times: user 16.9 ms, sys: 1.96 ms, total: 18.9 ms\n",
            "Wall time: 18.8 ms\n",
            "\n",
            "\n"
          ],
          "name": "stdout"
        }
      ]
    },
    {
      "cell_type": "code",
      "metadata": {
        "colab": {
          "base_uri": "https://localhost:8080/"
        },
        "id": "zn7tSTniq4qw",
        "outputId": "e01f3b8e-8eb6-49b2-efc7-9d575a6ae717"
      },
      "source": [
        "accKNN = np.array(accKNN)\n",
        "accKNN = accKNN.flatten()\n",
        "accKNN"
      ],
      "id": "zn7tSTniq4qw",
      "execution_count": 75,
      "outputs": [
        {
          "output_type": "execute_result",
          "data": {
            "text/plain": [
              "array([0.77855603, 0.8044181 , 0.58674569, 0.35452586, 0.5387931 ])"
            ]
          },
          "metadata": {
            "tags": []
          },
          "execution_count": 75
        }
      ]
    },
    {
      "cell_type": "code",
      "metadata": {
        "colab": {
          "base_uri": "https://localhost:8080/"
        },
        "id": "g6NAnPatAQ_L",
        "outputId": "7f2211b5-4d5d-4914-85d7-922959f899fd"
      },
      "source": [
        "tr_id=cvInd[0][np.argmax(accKNN)]\n",
        "ts_id=cvInd[1][np.argmax(accKNN)]\n",
        "modelKNN.fit(X[tr_id],y[tr_id])\n",
        "y_pred=modelKNN.predict(X[ts_id])\n",
        "print(accuracy_score(y[ts_id],y_pred))"
      ],
      "id": "g6NAnPatAQ_L",
      "execution_count": 76,
      "outputs": [
        {
          "output_type": "stream",
          "text": [
            "0.8044181034482759\n"
          ],
          "name": "stdout"
        }
      ]
    },
    {
      "cell_type": "code",
      "metadata": {
        "colab": {
          "base_uri": "https://localhost:8080/"
        },
        "id": "5wnzXtGJgaRc",
        "outputId": "b61350ff-7ab1-475d-be5a-eb1455fe89f4"
      },
      "source": [
        "accP=[] # ganti variable\n",
        "modelP = Perceptron() # ganti variable dan model\n",
        "for i in range(5):\n",
        "    print(\"range: \",i)\n",
        "    tr_id=cvInd[0][i]\n",
        "    ts_id=cvInd[1][i]\n",
        "\n",
        "    param={'penalty':['l1','l2','elasticnet']} # ganti value\n",
        "    grid=GridSearchCV(modelP,param,scoring='accuracy',cv=5,n_jobs=10) # ganti variable model\n",
        "    print(\"grid \",i)\n",
        "    %time grid.fit(X[tr_id],y[tr_id])\n",
        "    best = grid.best_params_ # tambah best\n",
        "    print(\"best parameter: \",best)\n",
        "    print(\"model \",i)\n",
        "    %time modelP.fit(X[tr_id],y[tr_id]) # ganti nama model\n",
        "    y_pred=modelP.predict(X[ts_id]) # ganti nama model\n",
        "    accP.append(accuracy_score(y[ts_id],y_pred)) # ganti akurasi model\n",
        "    print(\"\\n\")"
      ],
      "id": "5wnzXtGJgaRc",
      "execution_count": 78,
      "outputs": [
        {
          "output_type": "stream",
          "text": [
            "range:  0\n",
            "grid  0\n",
            "CPU times: user 93.6 ms, sys: 8.33 ms, total: 102 ms\n",
            "Wall time: 240 ms\n",
            "best parameter:  {'penalty': 'l1'}\n",
            "model  0\n",
            "CPU times: user 10.4 ms, sys: 0 ns, total: 10.4 ms\n",
            "Wall time: 9.47 ms\n",
            "\n",
            "\n",
            "range:  1\n",
            "grid  1\n",
            "CPU times: user 98.4 ms, sys: 29.5 ms, total: 128 ms\n",
            "Wall time: 258 ms\n",
            "best parameter:  {'penalty': 'l2'}\n",
            "model  1\n",
            "CPU times: user 6.26 ms, sys: 0 ns, total: 6.26 ms\n",
            "Wall time: 6.28 ms\n",
            "\n",
            "\n",
            "range:  2\n",
            "grid  2\n",
            "CPU times: user 88.1 ms, sys: 36.5 ms, total: 125 ms\n",
            "Wall time: 234 ms\n",
            "best parameter:  {'penalty': 'l2'}\n",
            "model  2\n",
            "CPU times: user 7.44 ms, sys: 0 ns, total: 7.44 ms\n",
            "Wall time: 7.39 ms\n",
            "\n",
            "\n",
            "range:  3\n",
            "grid  3\n",
            "CPU times: user 92.8 ms, sys: 41.7 ms, total: 135 ms\n",
            "Wall time: 232 ms\n",
            "best parameter:  {'penalty': 'l2'}\n",
            "model  3\n",
            "CPU times: user 6.95 ms, sys: 0 ns, total: 6.95 ms\n",
            "Wall time: 6.96 ms\n",
            "\n",
            "\n",
            "range:  4\n",
            "grid  4\n",
            "CPU times: user 112 ms, sys: 57.7 ms, total: 170 ms\n",
            "Wall time: 293 ms\n",
            "best parameter:  {'penalty': 'l1'}\n",
            "model  4\n",
            "CPU times: user 9.68 ms, sys: 38 µs, total: 9.72 ms\n",
            "Wall time: 8.85 ms\n",
            "\n",
            "\n"
          ],
          "name": "stdout"
        }
      ]
    },
    {
      "cell_type": "code",
      "metadata": {
        "id": "fo8PlaaPq89g",
        "colab": {
          "base_uri": "https://localhost:8080/"
        },
        "outputId": "94f52e42-f28d-4068-cf35-e127dbb913a4"
      },
      "source": [
        "accP = np.array(accP)\n",
        "accP = accP.flatten()\n",
        "accP"
      ],
      "id": "fo8PlaaPq89g",
      "execution_count": 79,
      "outputs": [
        {
          "output_type": "execute_result",
          "data": {
            "text/plain": [
              "array([0.78232759, 0.66594828, 0.66002155, 0.60560345, 0.79525862])"
            ]
          },
          "metadata": {
            "tags": []
          },
          "execution_count": 79
        }
      ]
    },
    {
      "cell_type": "code",
      "metadata": {
        "colab": {
          "base_uri": "https://localhost:8080/"
        },
        "id": "8N6zI9i4AWUr",
        "outputId": "94c55a8a-5160-4f15-8b2d-655b6fcb73c2"
      },
      "source": [
        "tr_id=cvInd[0][np.argmax(accP)]\n",
        "ts_id=cvInd[1][np.argmax(accP)]\n",
        "modelP.fit(X[tr_id],y[tr_id])\n",
        "y_pred=modelP.predict(X[ts_id])\n",
        "print(accuracy_score(y[ts_id],y_pred))"
      ],
      "id": "8N6zI9i4AWUr",
      "execution_count": 80,
      "outputs": [
        {
          "output_type": "stream",
          "text": [
            "0.7952586206896551\n"
          ],
          "name": "stdout"
        }
      ]
    },
    {
      "cell_type": "markdown",
      "metadata": {
        "id": "ApzSk5x3ZjZA"
      },
      "source": [
        "# Model Inference"
      ],
      "id": "ApzSk5x3ZjZA"
    },
    {
      "cell_type": "code",
      "metadata": {
        "colab": {
          "base_uri": "https://localhost:8080/"
        },
        "id": "8r_Sk07LNSzg",
        "outputId": "3d2a55c9-1618-40eb-f717-1f7b6b086456"
      },
      "source": [
        "newData= modelDT.predict([[2, 1, 3, 0, 1, 0, 254, 1, 93.994, 4.857]])\n",
        "if newData == [1.]:\n",
        "  print(\"Subscribed\")\n",
        "else:\n",
        "  print(\"Not Subscribed\")"
      ],
      "id": "8r_Sk07LNSzg",
      "execution_count": 57,
      "outputs": [
        {
          "output_type": "stream",
          "text": [
            "Subscribed\n"
          ],
          "name": "stdout"
        }
      ]
    },
    {
      "cell_type": "code",
      "metadata": {
        "colab": {
          "base_uri": "https://localhost:8080/"
        },
        "id": "EIc9E12JiN0w",
        "outputId": "0148823c-708f-4c61-815d-6dd1c2f72a5e"
      },
      "source": [
        "newData= modelRF.predict([[2, 1, 3, 0, 1, 0, 254, 1, 93.994, 4.857]])\n",
        "if newData == [1.]:\n",
        "  print(\"Subscribed\")\n",
        "else:\n",
        "  print(\"Not Subscribed\")"
      ],
      "id": "EIc9E12JiN0w",
      "execution_count": 61,
      "outputs": [
        {
          "output_type": "stream",
          "text": [
            "Subscribed\n"
          ],
          "name": "stdout"
        }
      ]
    },
    {
      "cell_type": "code",
      "metadata": {
        "colab": {
          "base_uri": "https://localhost:8080/"
        },
        "id": "nF6jjsg4iSVz",
        "outputId": "eee22b88-44e6-4306-f4a2-cc557438af25"
      },
      "source": [
        "newData= modelGNB.predict([[2, 1, 3, 0, 1, 0, 254, 1, 93.994, 4.857]])\n",
        "if newData == [1.]:\n",
        "  print(\"Subscribed\")\n",
        "else:\n",
        "  print(\"Not Subscribed\")"
      ],
      "id": "nF6jjsg4iSVz",
      "execution_count": 65,
      "outputs": [
        {
          "output_type": "stream",
          "text": [
            "Subscribed\n"
          ],
          "name": "stdout"
        }
      ]
    },
    {
      "cell_type": "code",
      "metadata": {
        "colab": {
          "base_uri": "https://localhost:8080/"
        },
        "id": "oihuZKEqib0J",
        "outputId": "8d701ad4-722e-421e-d04a-2988d7ef1e89"
      },
      "source": [
        "newData= modelLR.predict([[2, 1, 3, 0, 1, 0, 254, 1, 93.994, 4.857]])\n",
        "if newData == [1.]:\n",
        "  print(\"Subscribed\")\n",
        "else:\n",
        "  print(\"Not Subscribed\")"
      ],
      "id": "oihuZKEqib0J",
      "execution_count": 69,
      "outputs": [
        {
          "output_type": "stream",
          "text": [
            "Subscribed\n"
          ],
          "name": "stdout"
        }
      ]
    },
    {
      "cell_type": "code",
      "metadata": {
        "colab": {
          "base_uri": "https://localhost:8080/"
        },
        "id": "xCPtmRxHifOt",
        "outputId": "8f876bfd-6d11-4a26-b224-45c36e8c6ba3"
      },
      "source": [
        "newData= modelSVC.predict([[2, 1, 3, 0, 1, 0, 254, 1, 93.994, 4.857]])\n",
        "if newData == [1.]:\n",
        "  print(\"Subscribed\")\n",
        "else:\n",
        "  print(\"Not Subscribed\")"
      ],
      "id": "xCPtmRxHifOt",
      "execution_count": 73,
      "outputs": [
        {
          "output_type": "stream",
          "text": [
            "Subscribed\n"
          ],
          "name": "stdout"
        }
      ]
    },
    {
      "cell_type": "code",
      "metadata": {
        "colab": {
          "base_uri": "https://localhost:8080/"
        },
        "id": "OVn6FcGPiiRu",
        "outputId": "b80fc394-1f39-4530-df93-d929a4dddaaa"
      },
      "source": [
        "newData= modelKNN.predict([[2, 1, 3, 0, 1, 0, 254, 1, 93.994, 4.857]])\n",
        "if newData == [1.]:\n",
        "  print(\"Subscribed\")\n",
        "else:\n",
        "  print(\"Not Subscribed\")"
      ],
      "id": "OVn6FcGPiiRu",
      "execution_count": 77,
      "outputs": [
        {
          "output_type": "stream",
          "text": [
            "Subscribed\n"
          ],
          "name": "stdout"
        }
      ]
    },
    {
      "cell_type": "code",
      "metadata": {
        "colab": {
          "base_uri": "https://localhost:8080/"
        },
        "id": "JmdePU4Bil7B",
        "outputId": "a92face3-dd1d-4334-fc0f-d6d8461c888a"
      },
      "source": [
        "newData= modelP.predict([[2, 1, 3, 0, 1, 0, 254, 1, 93.994, 4.857]])\n",
        "if newData == [1.]:\n",
        "  print(\"Subscribed\")\n",
        "else:\n",
        "  print(\"Not Subscribed\")"
      ],
      "id": "JmdePU4Bil7B",
      "execution_count": 81,
      "outputs": [
        {
          "output_type": "stream",
          "text": [
            "Subscribed\n"
          ],
          "name": "stdout"
        }
      ]
    },
    {
      "cell_type": "markdown",
      "metadata": {
        "id": "kHo3RIHie__h"
      },
      "source": [
        "# Kesimpulan"
      ],
      "id": "kHo3RIHie__h"
    },
    {
      "cell_type": "markdown",
      "metadata": {
        "id": "CoXs33BkfQc7"
      },
      "source": [
        "1. Decission Tree dengan n_estimators = 200 terpilih sebagai bestparam dan memiliki akurasi tertinggi yaitu 0.82 dengan waktu pemodelan 31.6 ms\n",
        "\n",
        "2. Random Forest dengan max_depth = 4 terpilih sebagai bestparam dan memiliki akurasi tertinggi yaitu 0.81 dengan waktu pemodelan 734 ms\n",
        "\n",
        "3. GaussianNB memiliki akurasi tertinggi sebesar 0.73 dengan waktu pemodelan 5.67 ms\n",
        "\n",
        "4. Logistic Regression dengan penalty: l2, solver: newton-cg terpilih sebagai bestparam dan memiliki akurasi tertinggi yaitu 0.80 dengan waktu pemodelan 17.2 ms\n",
        "\n",
        "5. SVC memiliki akurasi tertinggi yaitu 0.74 dengan waktu pemodelan 6.24 s\n",
        "\n",
        "6. KNN dengan algorithm: ball_tree, n_neighbors: 7 terpilih sebagai bestparam dan memiliki akurasi tertinggi yaitu 0.80 dengan waktu pemodelan 15.8 ms\n",
        "\n",
        "7. Percepton dengan penalty: l1 terpilih sebagai bestparam dan memiliki akurasi tertinggi yaitu 0.80 dengan waktu pemodelan 8.8 ms\n",
        "\n",
        "**Dari semua model saya akan memilih Decission Tre karena mempunyai nilai akurasi paling tinggi walaupun secara waktu pemodelan, Decission Tree masih kalah dari GaussianNB, LogisticRegression, KNN dan Perceptron. Namun masalah waktu tidak masalah karena hanya berbeda beberapa ms. Jadi, model yang terbaik adalah Decission Tree**\n"
      ],
      "id": "CoXs33BkfQc7"
    }
  ]
}